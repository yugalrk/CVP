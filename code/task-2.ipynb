{
 "cells": [
  {
   "cell_type": "code",
   "execution_count": 1,
   "id": "946aafeb",
   "metadata": {
    "execution": {
     "iopub.execute_input": "2025-01-01T00:59:01.307833Z",
     "iopub.status.busy": "2025-01-01T00:59:01.307619Z",
     "iopub.status.idle": "2025-01-01T00:59:05.907571Z",
     "shell.execute_reply": "2025-01-01T00:59:05.906890Z"
    },
    "papermill": {
     "duration": 4.607096,
     "end_time": "2025-01-01T00:59:05.909122",
     "exception": false,
     "start_time": "2025-01-01T00:59:01.302026",
     "status": "completed"
    },
    "tags": []
   },
   "outputs": [],
   "source": [
    "import torch\n",
    "import numpy as np\n",
    "import torchvision\n",
    "from torchvision.datasets import CIFAR10\n",
    "import torchvision.transforms as transforms\n",
    "from torchvision.transforms import Compose, Resize, ToTensor, Normalize\n",
    "from torch.utils.data import DataLoader, random_split\n",
    "import copy\n",
    "import torch.nn as nn\n",
    "import torch.optim as optim\n",
    "from PIL import Image, ImageFilter\n",
    "from tqdm import tqdm\n",
    "import matplotlib.pyplot as plt\n",
    "from torch.cuda.amp import GradScaler, autocast"
   ]
  },
  {
   "cell_type": "code",
   "execution_count": 2,
   "id": "53f49ff8",
   "metadata": {
    "execution": {
     "iopub.execute_input": "2025-01-01T00:59:05.918874Z",
     "iopub.status.busy": "2025-01-01T00:59:05.918545Z",
     "iopub.status.idle": "2025-01-01T00:59:06.026510Z",
     "shell.execute_reply": "2025-01-01T00:59:06.025416Z"
    },
    "papermill": {
     "duration": 0.114214,
     "end_time": "2025-01-01T00:59:06.027992",
     "exception": false,
     "start_time": "2025-01-01T00:59:05.913778",
     "status": "completed"
    },
    "tags": []
   },
   "outputs": [
    {
     "name": "stdout",
     "output_type": "stream",
     "text": [
      "using:Tesla T4\n"
     ]
    }
   ],
   "source": [
    "device = torch.device(\"cuda\" if torch.cuda.is_available() else \"cpu\")\n",
    "if torch.cuda.is_available():\n",
    "    print(f\"using:{torch.cuda.get_device_name(torch.cuda.current_device())}\")\n",
    "else:\n",
    "    print(\"using CPU\")"
   ]
  },
  {
   "cell_type": "code",
   "execution_count": 3,
   "id": "43b46099",
   "metadata": {
    "execution": {
     "iopub.execute_input": "2025-01-01T00:59:06.037501Z",
     "iopub.status.busy": "2025-01-01T00:59:06.037261Z",
     "iopub.status.idle": "2025-01-01T00:59:06.045432Z",
     "shell.execute_reply": "2025-01-01T00:59:06.044797Z"
    },
    "papermill": {
     "duration": 0.014253,
     "end_time": "2025-01-01T00:59:06.046647",
     "exception": false,
     "start_time": "2025-01-01T00:59:06.032394",
     "status": "completed"
    },
    "tags": []
   },
   "outputs": [],
   "source": [
    "\n",
    "class InitialTransforms:\n",
    "    def __init__(self, size=(224, 224)):\n",
    "        self.transform = transforms.Compose([\n",
    "            transforms.Resize(size),\n",
    "            transforms.ToTensor(),\n",
    "            transforms.Normalize(mean=[0.485, 0.456, 0.406], std=[0.229, 0.224, 0.225])\n",
    "        ])\n",
    "\n",
    "    def __call__(self, img):\n",
    "        return self.transform(img)\n",
    "\n",
    "class Acuity:\n",
    "    def __init__(self, age_months):\n",
    "        self.age_months = age_months\n",
    "        self.acuity_map = {\n",
    "            (0, 1): 4.0,  # \"20/600\"\n",
    "            (2, 3): 3.0,  # \"20/489\"\n",
    "            (4, 6): 2.0,  # \"20/373\"\n",
    "            (7, 9): 1.0,  # \"20/221\"\n",
    "            (10, float('inf')): 0.0  # \"20/20\"\n",
    "        }\n",
    "\n",
    "    def __call__(self, image):\n",
    "        if not isinstance(image, Image.Image):\n",
    "            raise TypeError(\"Expected input type is PIL Image.\")\n",
    "        \n",
    "        blur_radius = next(radius for (low, high), radius in self.acuity_map.items() \n",
    "                           if low <= self.age_months <= high)\n",
    "        return image.filter(ImageFilter.GaussianBlur(radius=blur_radius))\n",
    "\n",
    "class Contrast:\n",
    "    def __init__(self, age_months):\n",
    "        self.age_months = age_months\n",
    "        self.sensitivity_map = {\n",
    "            (0, 1): 2,\n",
    "            (2, 4): 8,\n",
    "            (5, 6): 20,\n",
    "            (7, 8): 30,\n",
    "            (9, 10): 45,\n",
    "            (11, float('inf')): 50\n",
    "        }\n",
    "\n",
    "    def __call__(self, image):\n",
    "        if not isinstance(image, Image.Image):\n",
    "            raise TypeError(\"Expected input type is PIL Image.\")\n",
    "        \n",
    "        peak_sensitivity = next(sens for (low, high), sens in self.sensitivity_map.items() \n",
    "                                if low <= self.age_months <= high)\n",
    "        contrast_sensitivity = peak_sensitivity / 50\n",
    "\n",
    "        image_array = np.array(image).astype(np.float32) / 255.0\n",
    "        adjusted = np.clip(((image_array - 0.5) * contrast_sensitivity) + 0.5, 0, 1)\n",
    "        return Image.fromarray((adjusted * 255).astype(np.uint8))\n"
   ]
  },
  {
   "cell_type": "code",
   "execution_count": 4,
   "id": "43851e4c",
   "metadata": {
    "execution": {
     "iopub.execute_input": "2025-01-01T00:59:06.055460Z",
     "iopub.status.busy": "2025-01-01T00:59:06.055255Z",
     "iopub.status.idle": "2025-01-01T00:59:06.651393Z",
     "shell.execute_reply": "2025-01-01T00:59:06.650342Z"
    },
    "papermill": {
     "duration": 0.602501,
     "end_time": "2025-01-01T00:59:06.653333",
     "exception": false,
     "start_time": "2025-01-01T00:59:06.050832",
     "status": "completed"
    },
    "tags": []
   },
   "outputs": [
    {
     "name": "stderr",
     "output_type": "stream",
     "text": [
      "/usr/local/lib/python3.10/dist-packages/torchvision/models/_utils.py:208: UserWarning: The parameter 'pretrained' is deprecated since 0.13 and may be removed in the future, please use 'weights' instead.\n",
      "  warnings.warn(\n",
      "/usr/local/lib/python3.10/dist-packages/torchvision/models/_utils.py:223: UserWarning: Arguments other than a weight enum or `None` for 'weights' are deprecated since 0.13 and may be removed in the future. The current behavior is equivalent to passing `weights=None`.\n",
      "  warnings.warn(msg)\n"
     ]
    },
    {
     "name": "stdout",
     "output_type": "stream",
     "text": [
      "AlexNet(\n",
      "  (features): Sequential(\n",
      "    (0): Conv2d(3, 64, kernel_size=(11, 11), stride=(4, 4), padding=(2, 2))\n",
      "    (1): ReLU(inplace=True)\n",
      "    (2): MaxPool2d(kernel_size=3, stride=2, padding=0, dilation=1, ceil_mode=False)\n",
      "    (3): Conv2d(64, 192, kernel_size=(5, 5), stride=(1, 1), padding=(2, 2))\n",
      "    (4): ReLU(inplace=True)\n",
      "    (5): MaxPool2d(kernel_size=3, stride=2, padding=0, dilation=1, ceil_mode=False)\n",
      "    (6): Conv2d(192, 384, kernel_size=(3, 3), stride=(1, 1), padding=(1, 1))\n",
      "    (7): ReLU(inplace=True)\n",
      "    (8): Conv2d(384, 256, kernel_size=(3, 3), stride=(1, 1), padding=(1, 1))\n",
      "    (9): ReLU(inplace=True)\n",
      "    (10): Conv2d(256, 256, kernel_size=(3, 3), stride=(1, 1), padding=(1, 1))\n",
      "    (11): ReLU(inplace=True)\n",
      "    (12): MaxPool2d(kernel_size=3, stride=2, padding=0, dilation=1, ceil_mode=False)\n",
      "  )\n",
      "  (avgpool): AdaptiveAvgPool2d(output_size=(6, 6))\n",
      "  (classifier): Sequential(\n",
      "    (0): Dropout(p=0.5, inplace=False)\n",
      "    (1): Linear(in_features=9216, out_features=4096, bias=True)\n",
      "    (2): ReLU(inplace=True)\n",
      "    (3): Dropout(p=0.5, inplace=False)\n",
      "    (4): Linear(in_features=4096, out_features=4096, bias=True)\n",
      "    (5): ReLU(inplace=True)\n",
      "    (6): Linear(in_features=4096, out_features=10, bias=True)\n",
      "  )\n",
      ")\n",
      "Trainable parameters: 57044810\n"
     ]
    }
   ],
   "source": [
    "\n",
    "from torchvision.models import alexnet\n",
    "\n",
    "def get_model(num_classes=10, fine_tune=True):\n",
    "    model = alexnet(pretrained=False)\n",
    "    # replace the last layer\n",
    "    model.classifier[6] = nn.Linear(4096, num_classes)\n",
    "    return model\n",
    "\n",
    "model_v1 = get_model(num_classes=10)\n",
    "print(model_v1)\n",
    "\n",
    "trainable_params = sum(p.numel() for p in model_v1.parameters() if p.requires_grad)\n",
    "print(f\"Trainable parameters: {trainable_params}\")\n"
   ]
  },
  {
   "cell_type": "markdown",
   "id": "6065498a",
   "metadata": {
    "papermill": {
     "duration": 0.004884,
     "end_time": "2025-01-01T00:59:06.668017",
     "exception": false,
     "start_time": "2025-01-01T00:59:06.663133",
     "status": "completed"
    },
    "tags": []
   },
   "source": [
    "# Data Loader part goes here...\n"
   ]
  },
  {
   "cell_type": "code",
   "execution_count": 5,
   "id": "a3ddf196",
   "metadata": {
    "execution": {
     "iopub.execute_input": "2025-01-01T00:59:06.677322Z",
     "iopub.status.busy": "2025-01-01T00:59:06.677058Z",
     "iopub.status.idle": "2025-01-01T00:59:12.528639Z",
     "shell.execute_reply": "2025-01-01T00:59:12.527354Z"
    },
    "papermill": {
     "duration": 5.85887,
     "end_time": "2025-01-01T00:59:12.531127",
     "exception": false,
     "start_time": "2025-01-01T00:59:06.672257",
     "status": "completed"
    },
    "tags": []
   },
   "outputs": [
    {
     "name": "stdout",
     "output_type": "stream",
     "text": [
      "Downloading https://www.cs.toronto.edu/~kriz/cifar-10-python.tar.gz to ./data/cifar-10-python.tar.gz\n"
     ]
    },
    {
     "name": "stderr",
     "output_type": "stream",
     "text": [
      "100%|██████████| 170498071/170498071 [00:02<00:00, 57421120.61it/s]\n"
     ]
    },
    {
     "name": "stdout",
     "output_type": "stream",
     "text": [
      "Extracting ./data/cifar-10-python.tar.gz to ./data\n"
     ]
    },
    {
     "data": {
      "image/png": "[encoded data removed]",
      "text/plain": [
       "<Figure size 640x480 with 1 Axes>"
      ]
     },
     "metadata": {},
     "output_type": "display_data"
    }
   ],
   "source": [
    "# load CIFAR-10 dataset\n",
    "base_train_dataset = CIFAR10(root='./data', train=True, download=True)\n",
    "# display the image\n",
    "img = base_train_dataset[9][0]\n",
    "plt.imshow(img)\n",
    "plt.axis('off')\n",
    "plt.show()\n"
   ]
  },
  {
   "cell_type": "code",
   "execution_count": 6,
   "id": "16275472",
   "metadata": {
    "execution": {
     "iopub.execute_input": "2025-01-01T00:59:12.572028Z",
     "iopub.status.busy": "2025-01-01T00:59:12.571564Z",
     "iopub.status.idle": "2025-01-01T00:59:15.086622Z",
     "shell.execute_reply": "2025-01-01T00:59:15.085422Z"
    },
    "papermill": {
     "duration": 2.537192,
     "end_time": "2025-01-01T00:59:15.088227",
     "exception": false,
     "start_time": "2025-01-01T00:59:12.551035",
     "status": "completed"
    },
    "tags": []
   },
   "outputs": [
    {
     "name": "stdout",
     "output_type": "stream",
     "text": [
      "Files already downloaded and verified\n",
      "Processing data for age group: 3 months\n",
      "Processing data for age group: 6 months\n",
      "Processing data for age group: 12 months\n",
      "Data loaders created for all age groups.\n"
     ]
    }
   ],
   "source": [
    "\n",
    "# define age groups and batch size\n",
    "age_groups = [3, 6, 12]  # Developmental ages in months\n",
    "batch_size = 32\n",
    "\n",
    "# initialize DataLoader containers\n",
    "train_loaders, val_loaders = [], []\n",
    "\n",
    "# load the base dataset once\n",
    "base_train_dataset = CIFAR10(root='./data', train=True, download=True)\n",
    "\n",
    "for age_months in age_groups:\n",
    "    print(f\"Processing data for age group: {age_months} months\")\n",
    "    \n",
    "    # defining transformations\n",
    "    transform = transforms.Compose([\n",
    "       \n",
    "        Acuity(age_months=age_months),\n",
    "        Contrast(age_months=age_months),\n",
    "        transforms.ToTensor(),\n",
    "        # transforms.Resize(256)\n",
    "        \n",
    "    ])\n",
    "    \n",
    "    # create a new dataset with the transformation\n",
    "    transformed_dataset = CIFAR10(root='./data', train=True, download=False, transform=transform)\n",
    "    \n",
    "    # split train dataset into training and validation sets\n",
    "    generator = torch.Generator().manual_seed(42)  # For reproducibility\n",
    "    train_size = int(0.8 * len(transformed_dataset))\n",
    "    val_size = len(transformed_dataset) - train_size\n",
    "    train_data, val_data = random_split(transformed_dataset, [train_size, val_size], generator=generator)\n",
    "\n",
    "    # create DataLoaders for the transformed data\n",
    "    train_loader = DataLoader(train_data, batch_size=batch_size, shuffle=True, num_workers=4, pin_memory=True)\n",
    "    val_loader = DataLoader(val_data, batch_size=batch_size, shuffle=False, num_workers=4, pin_memory=True)\n",
    "\n",
    "    # append the loaders for each age group\n",
    "    train_loaders.append(train_loader)\n",
    "    val_loaders.append(val_loader)\n",
    "\n",
    "print(\"Data loaders created for all age groups.\")\n"
   ]
  },
  {
   "cell_type": "code",
   "execution_count": 7,
   "id": "c3588392",
   "metadata": {
    "execution": {
     "iopub.execute_input": "2025-01-01T00:59:15.102863Z",
     "iopub.status.busy": "2025-01-01T00:59:15.102589Z",
     "iopub.status.idle": "2025-01-01T00:59:15.979126Z",
     "shell.execute_reply": "2025-01-01T00:59:15.978261Z"
    },
    "papermill": {
     "duration": 0.885336,
     "end_time": "2025-01-01T00:59:15.980625",
     "exception": false,
     "start_time": "2025-01-01T00:59:15.095289",
     "status": "completed"
    },
    "tags": []
   },
   "outputs": [
    {
     "data": {
      "image/png": "[encoded data removed]",
      "text/plain": [
       "<Figure size 2000x500 with 4 Axes>"
      ]
     },
     "metadata": {},
     "output_type": "display_data"
    }
   ],
   "source": [
    "\n",
    "def visualize_transformed_loader(train_loader, age_groups, num_images=4):\n",
    "    data_iter = iter(train_loader)\n",
    "    images, labels = next(data_iter)\n",
    "\n",
    "    # determine the number of images we can display\n",
    "    batch_size = images.shape[0]\n",
    "    num_images = min(num_images, batch_size)\n",
    "\n",
    "    # plot the images\n",
    "    fig, axes = plt.subplots(1, num_images, figsize=(20, 5))\n",
    "    \n",
    "    for i in range(num_images):\n",
    "        img = images[i].permute(1, 2, 0).numpy()\n",
    "        \n",
    "        if img.max() <= 1:\n",
    "            img = (img * 255).astype('uint8')\n",
    "        \n",
    "        axes[i].imshow(img)\n",
    "        axes[i].axis(\"off\")\n",
    "        axes[i].set_title(f\"Age: {age_groups[-1]} months\", fontsize=10)\n",
    "\n",
    "    plt.tight_layout()\n",
    "    plt.show()\n",
    "\n",
    "# visualize the transformed images\n",
    "\n",
    "visualize_transformed_loader(train_loaders[-1], age_groups)\n"
   ]
  },
  {
   "cell_type": "code",
   "execution_count": 8,
   "id": "1048efa2",
   "metadata": {
    "execution": {
     "iopub.execute_input": "2025-01-01T00:59:15.995807Z",
     "iopub.status.busy": "2025-01-01T00:59:15.995549Z",
     "iopub.status.idle": "2025-01-01T00:59:16.000821Z",
     "shell.execute_reply": "2025-01-01T00:59:16.000196Z"
    },
    "papermill": {
     "duration": 0.014101,
     "end_time": "2025-01-01T00:59:16.002233",
     "exception": false,
     "start_time": "2025-01-01T00:59:15.988132",
     "status": "completed"
    },
    "tags": []
   },
   "outputs": [
    {
     "name": "stdout",
     "output_type": "stream",
     "text": [
      "Images in training dataset: 40000\n",
      "Images in validation dataset: 10000\n",
      "Total training images across all age groups: 120000\n",
      "Total validation images across all age groups: 30000\n"
     ]
    }
   ],
   "source": [
    "print(f\"Images in training dataset: {len(train_data)}\")\n",
    "print(f\"Images in validation dataset: {len(val_data)}\")\n",
    "\n",
    "total_train_images = sum(len(loader.dataset) for loader in train_loaders)\n",
    "total_val_images = sum(len(loader.dataset) for loader in val_loaders)\n",
    "\n",
    "print(f\"Total training images across all age groups: {total_train_images}\")\n",
    "print(f\"Total validation images across all age groups: {total_val_images}\")\n"
   ]
  },
  {
   "cell_type": "code",
   "execution_count": 9,
   "id": "3bd7fdbd",
   "metadata": {
    "execution": {
     "iopub.execute_input": "2025-01-01T00:59:16.017173Z",
     "iopub.status.busy": "2025-01-01T00:59:16.016942Z",
     "iopub.status.idle": "2025-01-01T00:59:16.022002Z",
     "shell.execute_reply": "2025-01-01T00:59:16.021301Z"
    },
    "papermill": {
     "duration": 0.013864,
     "end_time": "2025-01-01T00:59:16.023256",
     "exception": false,
     "start_time": "2025-01-01T00:59:16.009392",
     "status": "completed"
    },
    "tags": []
   },
   "outputs": [],
   "source": [
    "class SimpleCNN(nn.Module):\n",
    "    def __init__(self):\n",
    "        super(SimpleCNN, self).__init__()\n",
    "        self.conv1 = nn.Conv2d(3, 16, kernel_size=3, padding=1)\n",
    "        self.conv2 = nn.Conv2d(16, 32, kernel_size=3, padding=1)\n",
    "        self.fc1 = nn.Linear(32 * 8 * 8, 128)\n",
    "        self.fc2 = nn.Linear(128, 10)\n",
    "\n",
    "    def forward(self, x):\n",
    "        x = nn.functional.relu(self.conv1(x))\n",
    "        x = nn.functional.max_pool2d(x, 2)\n",
    "        x = nn.functional.relu(self.conv2(x))\n",
    "        x = nn.functional.max_pool2d(x, 2)\n",
    "        x = x.view(-1, 32 * 8 * 8)\n",
    "        x = nn.functional.relu(self.fc1(x))\n",
    "        x = self.fc2(x)\n",
    "        return x"
   ]
  },
  {
   "cell_type": "code",
   "execution_count": 10,
   "id": "f0c24d2c",
   "metadata": {
    "execution": {
     "iopub.execute_input": "2025-01-01T00:59:16.038188Z",
     "iopub.status.busy": "2025-01-01T00:59:16.037975Z",
     "iopub.status.idle": "2025-01-01T01:02:11.596269Z",
     "shell.execute_reply": "2025-01-01T01:02:11.595346Z"
    },
    "papermill": {
     "duration": 175.566964,
     "end_time": "2025-01-01T01:02:11.597507",
     "exception": false,
     "start_time": "2025-01-01T00:59:16.030543",
     "status": "completed"
    },
    "tags": []
   },
   "outputs": [
    {
     "name": "stderr",
     "output_type": "stream",
     "text": [
      "<ipython-input-10-667fdaff784c>:12: FutureWarning: `torch.cuda.amp.GradScaler(args...)` is deprecated. Please use `torch.amp.GradScaler('cuda', args...)` instead.\n",
      "  scaler = GradScaler()  # for mixed precision training\n"
     ]
    },
    {
     "name": "stdout",
     "output_type": "stream",
     "text": [
      "Training for Age Group: 3 months\n",
      "Epoch 1/5\n"
     ]
    },
    {
     "name": "stderr",
     "output_type": "stream",
     "text": [
      "Training (Age: 3 months):   0%|          | 0/1250 [00:00<?, ?it/s]<ipython-input-10-667fdaff784c>:40: FutureWarning: `torch.cuda.amp.autocast(args...)` is deprecated. Please use `torch.amp.autocast('cuda', args...)` instead.\n",
      "  with autocast():  # mixed precision\n",
      "Training (Age: 3 months): 100%|██████████| 1250/1250 [00:11<00:00, 111.59it/s, loss=2.09, accuracy=18.7]\n"
     ]
    },
    {
     "name": "stdout",
     "output_type": "stream",
     "text": [
      "Train Loss: 0.0674, Train Acc: 18.72%\n"
     ]
    },
    {
     "name": "stderr",
     "output_type": "stream",
     "text": [
      "Validation (Age: 3 months): 100%|██████████| 313/313 [00:02<00:00, 143.17it/s, loss=1.94, accuracy=28.3]\n"
     ]
    },
    {
     "name": "stdout",
     "output_type": "stream",
     "text": [
      "Validation Loss: 0.0619, Validation Acc: 28.28%\n",
      "Epoch 2/5\n"
     ]
    },
    {
     "name": "stderr",
     "output_type": "stream",
     "text": [
      "Training (Age: 3 months): 100%|██████████| 1250/1250 [00:09<00:00, 129.33it/s, loss=1.92, accuracy=32.1]\n"
     ]
    },
    {
     "name": "stdout",
     "output_type": "stream",
     "text": [
      "Train Loss: 0.0587, Train Acc: 32.08%\n"
     ]
    },
    {
     "name": "stderr",
     "output_type": "stream",
     "text": [
      "Validation (Age: 3 months): 100%|██████████| 313/313 [00:02<00:00, 152.34it/s, loss=1.83, accuracy=33.7]\n"
     ]
    },
    {
     "name": "stdout",
     "output_type": "stream",
     "text": [
      "Validation Loss: 0.0573, Validation Acc: 33.69%\n",
      "Epoch 3/5\n"
     ]
    },
    {
     "name": "stderr",
     "output_type": "stream",
     "text": [
      "Training (Age: 3 months): 100%|██████████| 1250/1250 [00:10<00:00, 124.17it/s, loss=1.55, accuracy=37.4]\n"
     ]
    },
    {
     "name": "stdout",
     "output_type": "stream",
     "text": [
      "Train Loss: 0.0548, Train Acc: 37.37%\n"
     ]
    },
    {
     "name": "stderr",
     "output_type": "stream",
     "text": [
      "Validation (Age: 3 months): 100%|██████████| 313/313 [00:02<00:00, 152.32it/s, loss=1.79, accuracy=38.9]\n"
     ]
    },
    {
     "name": "stdout",
     "output_type": "stream",
     "text": [
      "Validation Loss: 0.0531, Validation Acc: 38.88%\n",
      "Epoch 4/5\n"
     ]
    },
    {
     "name": "stderr",
     "output_type": "stream",
     "text": [
      "Training (Age: 3 months): 100%|██████████| 1250/1250 [00:09<00:00, 129.86it/s, loss=1.35, accuracy=39.7]\n"
     ]
    },
    {
     "name": "stdout",
     "output_type": "stream",
     "text": [
      "Train Loss: 0.0527, Train Acc: 39.72%\n"
     ]
    },
    {
     "name": "stderr",
     "output_type": "stream",
     "text": [
      "Validation (Age: 3 months): 100%|██████████| 313/313 [00:02<00:00, 154.60it/s, loss=1.82, accuracy=40.9]\n"
     ]
    },
    {
     "name": "stdout",
     "output_type": "stream",
     "text": [
      "Validation Loss: 0.0523, Validation Acc: 40.90%\n",
      "Epoch 5/5\n"
     ]
    },
    {
     "name": "stderr",
     "output_type": "stream",
     "text": [
      "Training (Age: 3 months): 100%|██████████| 1250/1250 [00:09<00:00, 132.14it/s, loss=1.69, accuracy=41.2]\n"
     ]
    },
    {
     "name": "stdout",
     "output_type": "stream",
     "text": [
      "Train Loss: 0.0515, Train Acc: 41.21%\n"
     ]
    },
    {
     "name": "stderr",
     "output_type": "stream",
     "text": [
      "Validation (Age: 3 months): 100%|██████████| 313/313 [00:02<00:00, 118.28it/s, loss=1.6, accuracy=41.7]\n"
     ]
    },
    {
     "name": "stdout",
     "output_type": "stream",
     "text": [
      "Validation Loss: 0.0507, Validation Acc: 41.72%\n",
      "Training for Age Group: 6 months\n",
      "Epoch 1/5\n"
     ]
    },
    {
     "name": "stderr",
     "output_type": "stream",
     "text": [
      "Training (Age: 6 months): 100%|██████████| 1250/1250 [00:09<00:00, 132.15it/s, loss=1.85, accuracy=43.6]\n"
     ]
    },
    {
     "name": "stdout",
     "output_type": "stream",
     "text": [
      "Train Loss: 0.0498, Train Acc: 43.59%\n"
     ]
    },
    {
     "name": "stderr",
     "output_type": "stream",
     "text": [
      "Validation (Age: 6 months): 100%|██████████| 313/313 [00:02<00:00, 150.49it/s, loss=1.6, accuracy=44.3]\n"
     ]
    },
    {
     "name": "stdout",
     "output_type": "stream",
     "text": [
      "Validation Loss: 0.0489, Validation Acc: 44.32%\n",
      "Epoch 2/5\n"
     ]
    },
    {
     "name": "stderr",
     "output_type": "stream",
     "text": [
      "Training (Age: 6 months): 100%|██████████| 1250/1250 [00:09<00:00, 131.15it/s, loss=1.42, accuracy=45.4]\n"
     ]
    },
    {
     "name": "stdout",
     "output_type": "stream",
     "text": [
      "Train Loss: 0.0479, Train Acc: 45.41%\n"
     ]
    },
    {
     "name": "stderr",
     "output_type": "stream",
     "text": [
      "Validation (Age: 6 months): 100%|██████████| 313/313 [00:02<00:00, 153.75it/s, loss=1.54, accuracy=45.5]\n"
     ]
    },
    {
     "name": "stdout",
     "output_type": "stream",
     "text": [
      "Validation Loss: 0.0475, Validation Acc: 45.53%\n",
      "Epoch 3/5\n"
     ]
    },
    {
     "name": "stderr",
     "output_type": "stream",
     "text": [
      "Training (Age: 6 months): 100%|██████████| 1250/1250 [00:10<00:00, 121.71it/s, loss=1.83, accuracy=46.8]\n"
     ]
    },
    {
     "name": "stdout",
     "output_type": "stream",
     "text": [
      "Train Loss: 0.0467, Train Acc: 46.81%\n"
     ]
    },
    {
     "name": "stderr",
     "output_type": "stream",
     "text": [
      "Validation (Age: 6 months): 100%|██████████| 313/313 [00:02<00:00, 153.94it/s, loss=1.53, accuracy=46.2]\n"
     ]
    },
    {
     "name": "stdout",
     "output_type": "stream",
     "text": [
      "Validation Loss: 0.0461, Validation Acc: 46.24%\n",
      "Epoch 4/5\n"
     ]
    },
    {
     "name": "stderr",
     "output_type": "stream",
     "text": [
      "Training (Age: 6 months): 100%|██████████| 1250/1250 [00:09<00:00, 131.43it/s, loss=1.36, accuracy=48]\n"
     ]
    },
    {
     "name": "stdout",
     "output_type": "stream",
     "text": [
      "Train Loss: 0.0456, Train Acc: 47.96%\n"
     ]
    },
    {
     "name": "stderr",
     "output_type": "stream",
     "text": [
      "Validation (Age: 6 months): 100%|██████████| 313/313 [00:02<00:00, 155.40it/s, loss=1.47, accuracy=46.7]\n"
     ]
    },
    {
     "name": "stdout",
     "output_type": "stream",
     "text": [
      "Validation Loss: 0.0460, Validation Acc: 46.71%\n",
      "Epoch 5/5\n"
     ]
    },
    {
     "name": "stderr",
     "output_type": "stream",
     "text": [
      "Training (Age: 6 months): 100%|██████████| 1250/1250 [00:09<00:00, 131.13it/s, loss=1.47, accuracy=49.1]\n"
     ]
    },
    {
     "name": "stdout",
     "output_type": "stream",
     "text": [
      "Train Loss: 0.0447, Train Acc: 49.10%\n"
     ]
    },
    {
     "name": "stderr",
     "output_type": "stream",
     "text": [
      "Validation (Age: 6 months): 100%|██████████| 313/313 [00:02<00:00, 153.45it/s, loss=1.37, accuracy=47.7]\n"
     ]
    },
    {
     "name": "stdout",
     "output_type": "stream",
     "text": [
      "Validation Loss: 0.0458, Validation Acc: 47.68%\n",
      "Training for Age Group: 12 months\n",
      "Epoch 1/5\n"
     ]
    },
    {
     "name": "stderr",
     "output_type": "stream",
     "text": [
      "Training (Age: 12 months): 100%|██████████| 1250/1250 [00:09<00:00, 129.68it/s, loss=1.39, accuracy=50.9]\n"
     ]
    },
    {
     "name": "stdout",
     "output_type": "stream",
     "text": [
      "Train Loss: 0.0431, Train Acc: 50.88%\n"
     ]
    },
    {
     "name": "stderr",
     "output_type": "stream",
     "text": [
      "Validation (Age: 12 months): 100%|██████████| 313/313 [00:01<00:00, 159.29it/s, loss=1.17, accuracy=52.7]\n"
     ]
    },
    {
     "name": "stdout",
     "output_type": "stream",
     "text": [
      "Validation Loss: 0.0410, Validation Acc: 52.67%\n",
      "Epoch 2/5\n"
     ]
    },
    {
     "name": "stderr",
     "output_type": "stream",
     "text": [
      "Training (Age: 12 months): 100%|██████████| 1250/1250 [00:08<00:00, 140.10it/s, loss=1.44, accuracy=55]\n"
     ]
    },
    {
     "name": "stdout",
     "output_type": "stream",
     "text": [
      "Train Loss: 0.0390, Train Acc: 55.01%\n"
     ]
    },
    {
     "name": "stderr",
     "output_type": "stream",
     "text": [
      "Validation (Age: 12 months): 100%|██████████| 313/313 [00:02<00:00, 155.84it/s, loss=1.17, accuracy=55.1]\n"
     ]
    },
    {
     "name": "stdout",
     "output_type": "stream",
     "text": [
      "Validation Loss: 0.0392, Validation Acc: 55.11%\n",
      "Epoch 3/5\n"
     ]
    },
    {
     "name": "stderr",
     "output_type": "stream",
     "text": [
      "Training (Age: 12 months): 100%|██████████| 1250/1250 [00:09<00:00, 137.99it/s, loss=0.771, accuracy=58.6]\n"
     ]
    },
    {
     "name": "stdout",
     "output_type": "stream",
     "text": [
      "Train Loss: 0.0361, Train Acc: 58.62%\n"
     ]
    },
    {
     "name": "stderr",
     "output_type": "stream",
     "text": [
      "Validation (Age: 12 months): 100%|██████████| 313/313 [00:01<00:00, 167.53it/s, loss=1.3, accuracy=59]\n"
     ]
    },
    {
     "name": "stdout",
     "output_type": "stream",
     "text": [
      "Validation Loss: 0.0360, Validation Acc: 59.00%\n",
      "Epoch 4/5\n"
     ]
    },
    {
     "name": "stderr",
     "output_type": "stream",
     "text": [
      "Training (Age: 12 months): 100%|██████████| 1250/1250 [00:09<00:00, 128.55it/s, loss=0.981, accuracy=61.4]\n"
     ]
    },
    {
     "name": "stdout",
     "output_type": "stream",
     "text": [
      "Train Loss: 0.0339, Train Acc: 61.37%\n"
     ]
    },
    {
     "name": "stderr",
     "output_type": "stream",
     "text": [
      "Validation (Age: 12 months): 100%|██████████| 313/313 [00:01<00:00, 167.01it/s, loss=1.24, accuracy=59.4]\n"
     ]
    },
    {
     "name": "stdout",
     "output_type": "stream",
     "text": [
      "Validation Loss: 0.0354, Validation Acc: 59.40%\n",
      "Epoch 5/5\n"
     ]
    },
    {
     "name": "stderr",
     "output_type": "stream",
     "text": [
      "Training (Age: 12 months): 100%|██████████| 1250/1250 [00:09<00:00, 138.50it/s, loss=0.957, accuracy=63.7]\n"
     ]
    },
    {
     "name": "stdout",
     "output_type": "stream",
     "text": [
      "Train Loss: 0.0319, Train Acc: 63.73%\n"
     ]
    },
    {
     "name": "stderr",
     "output_type": "stream",
     "text": [
      "Validation (Age: 12 months): 100%|██████████| 313/313 [00:01<00:00, 169.56it/s, loss=1.3, accuracy=61.6]\n"
     ]
    },
    {
     "name": "stdout",
     "output_type": "stream",
     "text": [
      "Validation Loss: 0.0341, Validation Acc: 61.59%\n",
      "Training completed.\n"
     ]
    }
   ],
   "source": [
    "device = torch.device(\"cuda\" if torch.cuda.is_available() else \"cpu\")\n",
    "model = SimpleCNN().to(device)\n",
    "for param in model.parameters():\n",
    "    param.requires_grad = True\n",
    "\n",
    "criterion = nn.CrossEntropyLoss()\n",
    "optimizer = optim.Adam(model.parameters(), lr=.001)\n",
    "scheduler = optim.lr_scheduler.ReduceLROnPlateau(optimizer, 'min', patience=3, factor=0.1)\n",
    "\n",
    "num_epochs = 5\n",
    "scaler = GradScaler()\n",
    "best_val_loss = float('inf')\n",
    "\n",
    "train_accuracies = []\n",
    "val_accuracies = []\n",
    "\n",
    "# loop over each age group\n",
    "for age_group_index, age_group in enumerate(age_groups):\n",
    "    print(f\"Training for Age Group: {age_group} months\")\n",
    "    train_loader = train_loaders[age_group_index]  # get the corresponding train loader\n",
    "    val_loader = val_loaders[age_group_index]      # get the corresponding validation loader\n",
    "    \n",
    "    for epoch in range(num_epochs):\n",
    "        print(f\"Epoch {epoch+1}/{num_epochs}\")\n",
    "        \n",
    "        model.train()\n",
    "        running_loss = 0.0\n",
    "        correct = 0\n",
    "        total = 0\n",
    "        \n",
    "        pbar = tqdm(train_loader, desc=f\"Training (Age: {age_group} months)\")\n",
    "        for inputs, labels in pbar:\n",
    "            inputs, labels = inputs.to(device), labels.to(device)\n",
    "            \n",
    "            optimizer.zero_grad()\n",
    "            \n",
    "            with autocast():  # mixed precision\n",
    "                outputs = model(inputs)\n",
    "                loss = criterion(outputs, labels)\n",
    "            \n",
    "            scaler.scale(loss).backward()\n",
    "            scaler.step(optimizer)\n",
    "            scaler.update()\n",
    "            \n",
    "            running_loss += loss.item()\n",
    "            _, predicted = torch.max(outputs.data, 1)\n",
    "            total += labels.size(0)\n",
    "            correct += (predicted == labels).sum().item()\n",
    "            \n",
    "            pbar.set_postfix({'loss': loss.item(), 'accuracy': 100. * correct / total})\n",
    "        \n",
    "        train_loss = running_loss / total\n",
    "        train_acc = 100. * correct / total\n",
    "        train_accuracies.append(train_acc)  # storing training accuracy\n",
    "        \n",
    "        print(f\"Train Loss: {train_loss:.4f}, Train Acc: {train_acc:.2f}%\")\n",
    "        \n",
    "        # validation\n",
    "        model.eval()\n",
    "        val_loss = 0.0\n",
    "        correct = 0\n",
    "        total = 0\n",
    "        \n",
    "        with torch.no_grad():\n",
    "            val_pbar = tqdm(val_loader, desc=f\"Validation (Age: {age_group} months)\")\n",
    "            for inputs, labels in val_pbar:\n",
    "                inputs, labels = inputs.to(device), labels.to(device)\n",
    "                \n",
    "                outputs = model(inputs)\n",
    "                loss = criterion(outputs, labels)\n",
    "                val_loss += loss.item()\n",
    "                _, predicted = torch.max(outputs.data, 1)\n",
    "                total += labels.size(0)\n",
    "                correct += (predicted == labels).sum().item()\n",
    "                \n",
    "                val_pbar.set_postfix({'loss': loss.item(), 'accuracy': 100. * correct / total})\n",
    "        \n",
    "        val_loss /= total\n",
    "        val_acc = 100. * correct / total\n",
    "        val_accuracies.append(val_acc)  # storing validation accuracy\n",
    "        \n",
    "        print(f\"Validation Loss: {val_loss:.4f}, Validation Acc: {val_acc:.2f}%\")\n",
    "        \n",
    "        scheduler.step(val_loss)\n",
    "\n",
    "print(\"Training completed.\")\n",
    "\n",
    "torch.save(model.state_dict(),\"curriculum.pth\")\n"
   ]
  },
  {
   "cell_type": "code",
   "execution_count": 11,
   "id": "b51282ed",
   "metadata": {
    "execution": {
     "iopub.execute_input": "2025-01-01T01:02:14.074550Z",
     "iopub.status.busy": "2025-01-01T01:02:14.074232Z",
     "iopub.status.idle": "2025-01-01T01:02:14.467471Z",
     "shell.execute_reply": "2025-01-01T01:02:14.466644Z"
    },
    "papermill": {
     "duration": 1.657984,
     "end_time": "2025-01-01T01:02:14.468763",
     "exception": false,
     "start_time": "2025-01-01T01:02:12.810779",
     "status": "completed"
    },
    "tags": []
   },
   "outputs": [
    {
     "data": {
      "image/png": "[encoded data removed]",
      "text/plain": [
       "<Figure size 1000x500 with 1 Axes>"
      ]
     },
     "metadata": {},
     "output_type": "display_data"
    }
   ],
   "source": [
    "# Plotting the accuracies after training is done\n",
    "plt.figure(figsize=(10, 5))\n",
    "plt.plot(range(1, len(train_accuracies) + 1), train_accuracies, label='Training Accuracy', marker='o')\n",
    "plt.plot(range(1, len(val_accuracies) + 1), val_accuracies, label='Validation Accuracy', marker='o')\n",
    "plt.title('Performance with curriculum learning')\n",
    "plt.xlabel('Epochs')\n",
    "plt.ylabel('Accuracy (%)')\n",
    "plt.xticks(range(1, len(train_accuracies) + 1))  # Set x-ticks for each epoch\n",
    "plt.legend()\n",
    "plt.grid(True)\n",
    "plt.savefig(\"with Curriculum\")\n",
    "plt.show()"
   ]
  },
  {
   "cell_type": "code",
   "execution_count": 12,
   "id": "dacc4e9c",
   "metadata": {
    "execution": {
     "iopub.execute_input": "2025-01-01T01:02:16.908390Z",
     "iopub.status.busy": "2025-01-01T01:02:16.908040Z",
     "iopub.status.idle": "2025-01-01T01:02:19.675787Z",
     "shell.execute_reply": "2025-01-01T01:02:19.674674Z"
    },
    "papermill": {
     "duration": 3.987809,
     "end_time": "2025-01-01T01:02:19.677211",
     "exception": false,
     "start_time": "2025-01-01T01:02:15.689402",
     "status": "completed"
    },
    "tags": []
   },
   "outputs": [
    {
     "name": "stdout",
     "output_type": "stream",
     "text": [
      "Files already downloaded and verified\n",
      "Processing data for age group: 3 months\n",
      "Processing data for age group: 6 months\n",
      "Processing data for age group: 12 months\n",
      "Data loaders created for all age groups.\n"
     ]
    }
   ],
   "source": [
    "\n",
    "# Define age groups and batch size\n",
    "age_groups = [3, 6, 12]  # Developmental ages in months\n",
    "batch_size = 32\n",
    "\n",
    "# Initialize DataLoader containers\n",
    "train_loaders, val_loaders = [], []\n",
    "\n",
    "# Load the base dataset once\n",
    "base_train_dataset = CIFAR10(root='./data', train=True, download=True)\n",
    "\n",
    "for age_months in age_groups:\n",
    "    print(f\"Processing data for age group: {age_months} months\")\n",
    "    \n",
    "    # Define transformations\n",
    "    transform = transforms.Compose([\n",
    "       \n",
    "        Acuity(age_months=age_months),\n",
    "        # Contrast(age_months=age_months),\n",
    "        transforms.ToTensor(),\n",
    "        # transforms.Resize(256)\n",
    "        \n",
    "    ])\n",
    "    \n",
    "    # Create a new dataset with the transformation\n",
    "    transformed_dataset = CIFAR10(root='./data', train=True, download=False, transform=transform)\n",
    "    \n",
    "    # Split train dataset into training and validation sets\n",
    "    generator = torch.Generator().manual_seed(42)  # For reproducibility\n",
    "    train_size = int(0.8 * len(transformed_dataset))\n",
    "    val_size = len(transformed_dataset) - train_size\n",
    "    train_data, val_data = random_split(transformed_dataset, [train_size, val_size], generator=generator)\n",
    "\n",
    "    # Create DataLoaders for the transformed data\n",
    "    train_loader = DataLoader(train_data, batch_size=batch_size, shuffle=True, num_workers=4, pin_memory=True)\n",
    "    val_loader = DataLoader(val_data, batch_size=batch_size, shuffle=False, num_workers=4, pin_memory=True)\n",
    "\n",
    "    # Append the loaders for each age group\n",
    "    train_loaders.append(train_loader)\n",
    "    val_loaders.append(val_loader)\n",
    "\n",
    "print(\"Data loaders created for all age groups.\")\n"
   ]
  },
  {
   "cell_type": "code",
   "execution_count": 13,
   "id": "df7d398e",
   "metadata": {
    "execution": {
     "iopub.execute_input": "2025-01-01T01:02:22.062966Z",
     "iopub.status.busy": "2025-01-01T01:02:22.062590Z",
     "iopub.status.idle": "2025-01-01T01:05:02.333020Z",
     "shell.execute_reply": "2025-01-01T01:05:02.332125Z"
    },
    "papermill": {
     "duration": 161.462428,
     "end_time": "2025-01-01T01:05:02.334336",
     "exception": false,
     "start_time": "2025-01-01T01:02:20.871908",
     "status": "completed"
    },
    "tags": []
   },
   "outputs": [
    {
     "name": "stderr",
     "output_type": "stream",
     "text": [
      "<ipython-input-13-76e087fabd74>:12: FutureWarning: `torch.cuda.amp.GradScaler(args...)` is deprecated. Please use `torch.amp.GradScaler('cuda', args...)` instead.\n",
      "  scaler = GradScaler()  # for mixed precision training\n"
     ]
    },
    {
     "name": "stdout",
     "output_type": "stream",
     "text": [
      "Training for Age Group: 3 months\n",
      "Epoch 1/5\n"
     ]
    },
    {
     "name": "stderr",
     "output_type": "stream",
     "text": [
      "Training (Age: 3 months):   0%|          | 0/1250 [00:00<?, ?it/s]<ipython-input-13-76e087fabd74>:40: FutureWarning: `torch.cuda.amp.autocast(args...)` is deprecated. Please use `torch.amp.autocast('cuda', args...)` instead.\n",
      "  with autocast():  # mixed precision\n",
      "Training (Age: 3 months): 100%|██████████| 1250/1250 [00:08<00:00, 142.11it/s, loss=1.86, accuracy=35.5]\n"
     ]
    },
    {
     "name": "stdout",
     "output_type": "stream",
     "text": [
      "Train Loss: 0.0559, Train Acc: 35.52%\n"
     ]
    },
    {
     "name": "stderr",
     "output_type": "stream",
     "text": [
      "Validation (Age: 3 months): 100%|██████████| 313/313 [00:01<00:00, 167.08it/s, loss=1.47, accuracy=42.5]\n"
     ]
    },
    {
     "name": "stdout",
     "output_type": "stream",
     "text": [
      "Validation Loss: 0.0509, Validation Acc: 42.49%\n",
      "Epoch 2/5\n"
     ]
    },
    {
     "name": "stderr",
     "output_type": "stream",
     "text": [
      "Training (Age: 3 months): 100%|██████████| 1250/1250 [00:08<00:00, 139.15it/s, loss=1.35, accuracy=44.1]\n"
     ]
    },
    {
     "name": "stdout",
     "output_type": "stream",
     "text": [
      "Train Loss: 0.0488, Train Acc: 44.11%\n"
     ]
    },
    {
     "name": "stderr",
     "output_type": "stream",
     "text": [
      "Validation (Age: 3 months): 100%|██████████| 313/313 [00:02<00:00, 128.28it/s, loss=1.28, accuracy=45.5]\n"
     ]
    },
    {
     "name": "stdout",
     "output_type": "stream",
     "text": [
      "Validation Loss: 0.0476, Validation Acc: 45.53%\n",
      "Epoch 3/5\n"
     ]
    },
    {
     "name": "stderr",
     "output_type": "stream",
     "text": [
      "Training (Age: 3 months): 100%|██████████| 1250/1250 [00:09<00:00, 133.05it/s, loss=1.5, accuracy=48.2]\n"
     ]
    },
    {
     "name": "stdout",
     "output_type": "stream",
     "text": [
      "Train Loss: 0.0456, Train Acc: 48.19%\n"
     ]
    },
    {
     "name": "stderr",
     "output_type": "stream",
     "text": [
      "Validation (Age: 3 months): 100%|██████████| 313/313 [00:02<00:00, 108.52it/s, loss=1.51, accuracy=48.7]\n"
     ]
    },
    {
     "name": "stdout",
     "output_type": "stream",
     "text": [
      "Validation Loss: 0.0452, Validation Acc: 48.70%\n",
      "Epoch 4/5\n"
     ]
    },
    {
     "name": "stderr",
     "output_type": "stream",
     "text": [
      "Training (Age: 3 months): 100%|██████████| 1250/1250 [00:09<00:00, 135.97it/s, loss=1.36, accuracy=50.5]\n"
     ]
    },
    {
     "name": "stdout",
     "output_type": "stream",
     "text": [
      "Train Loss: 0.0435, Train Acc: 50.54%\n"
     ]
    },
    {
     "name": "stderr",
     "output_type": "stream",
     "text": [
      "Validation (Age: 3 months): 100%|██████████| 313/313 [00:02<00:00, 118.30it/s, loss=1.2, accuracy=50.6]\n"
     ]
    },
    {
     "name": "stdout",
     "output_type": "stream",
     "text": [
      "Validation Loss: 0.0435, Validation Acc: 50.64%\n",
      "Epoch 5/5\n"
     ]
    },
    {
     "name": "stderr",
     "output_type": "stream",
     "text": [
      "Training (Age: 3 months): 100%|██████████| 1250/1250 [00:08<00:00, 144.75it/s, loss=1.43, accuracy=52.2]\n"
     ]
    },
    {
     "name": "stdout",
     "output_type": "stream",
     "text": [
      "Train Loss: 0.0419, Train Acc: 52.24%\n"
     ]
    },
    {
     "name": "stderr",
     "output_type": "stream",
     "text": [
      "Validation (Age: 3 months): 100%|██████████| 313/313 [00:01<00:00, 184.91it/s, loss=1.17, accuracy=52.5]\n"
     ]
    },
    {
     "name": "stdout",
     "output_type": "stream",
     "text": [
      "Validation Loss: 0.0417, Validation Acc: 52.50%\n",
      "Training for Age Group: 6 months\n",
      "Epoch 1/5\n"
     ]
    },
    {
     "name": "stderr",
     "output_type": "stream",
     "text": [
      "Training (Age: 6 months): 100%|██████████| 1250/1250 [00:09<00:00, 136.72it/s, loss=1.1, accuracy=55.5]\n"
     ]
    },
    {
     "name": "stdout",
     "output_type": "stream",
     "text": [
      "Train Loss: 0.0390, Train Acc: 55.55%\n"
     ]
    },
    {
     "name": "stderr",
     "output_type": "stream",
     "text": [
      "Validation (Age: 6 months): 100%|██████████| 313/313 [00:02<00:00, 155.55it/s, loss=1.1, accuracy=54]\n"
     ]
    },
    {
     "name": "stdout",
     "output_type": "stream",
     "text": [
      "Validation Loss: 0.0403, Validation Acc: 54.04%\n",
      "Epoch 2/5\n"
     ]
    },
    {
     "name": "stderr",
     "output_type": "stream",
     "text": [
      "Training (Age: 6 months): 100%|██████████| 1250/1250 [00:08<00:00, 145.01it/s, loss=1.21, accuracy=57.4]\n"
     ]
    },
    {
     "name": "stdout",
     "output_type": "stream",
     "text": [
      "Train Loss: 0.0373, Train Acc: 57.43%\n"
     ]
    },
    {
     "name": "stderr",
     "output_type": "stream",
     "text": [
      "Validation (Age: 6 months): 100%|██████████| 313/313 [00:01<00:00, 187.27it/s, loss=1.14, accuracy=56.2]\n"
     ]
    },
    {
     "name": "stdout",
     "output_type": "stream",
     "text": [
      "Validation Loss: 0.0386, Validation Acc: 56.16%\n",
      "Epoch 3/5\n"
     ]
    },
    {
     "name": "stderr",
     "output_type": "stream",
     "text": [
      "Training (Age: 6 months): 100%|██████████| 1250/1250 [00:08<00:00, 144.76it/s, loss=0.842, accuracy=58.7]\n"
     ]
    },
    {
     "name": "stdout",
     "output_type": "stream",
     "text": [
      "Train Loss: 0.0361, Train Acc: 58.69%\n"
     ]
    },
    {
     "name": "stderr",
     "output_type": "stream",
     "text": [
      "Validation (Age: 6 months): 100%|██████████| 313/313 [00:01<00:00, 185.48it/s, loss=1.22, accuracy=56.7]\n"
     ]
    },
    {
     "name": "stdout",
     "output_type": "stream",
     "text": [
      "Validation Loss: 0.0382, Validation Acc: 56.72%\n",
      "Epoch 4/5\n"
     ]
    },
    {
     "name": "stderr",
     "output_type": "stream",
     "text": [
      "Training (Age: 6 months): 100%|██████████| 1250/1250 [00:08<00:00, 142.32it/s, loss=1.25, accuracy=60.2]\n"
     ]
    },
    {
     "name": "stdout",
     "output_type": "stream",
     "text": [
      "Train Loss: 0.0350, Train Acc: 60.23%\n"
     ]
    },
    {
     "name": "stderr",
     "output_type": "stream",
     "text": [
      "Validation (Age: 6 months): 100%|██████████| 313/313 [00:02<00:00, 136.79it/s, loss=1.12, accuracy=57.6]\n"
     ]
    },
    {
     "name": "stdout",
     "output_type": "stream",
     "text": [
      "Validation Loss: 0.0374, Validation Acc: 57.61%\n",
      "Epoch 5/5\n"
     ]
    },
    {
     "name": "stderr",
     "output_type": "stream",
     "text": [
      "Training (Age: 6 months): 100%|██████████| 1250/1250 [00:08<00:00, 144.13it/s, loss=1.17, accuracy=61.2]\n"
     ]
    },
    {
     "name": "stdout",
     "output_type": "stream",
     "text": [
      "Train Loss: 0.0340, Train Acc: 61.20%\n"
     ]
    },
    {
     "name": "stderr",
     "output_type": "stream",
     "text": [
      "Validation (Age: 6 months): 100%|██████████| 313/313 [00:01<00:00, 186.80it/s, loss=1.26, accuracy=57.8]\n"
     ]
    },
    {
     "name": "stdout",
     "output_type": "stream",
     "text": [
      "Validation Loss: 0.0376, Validation Acc: 57.77%\n",
      "Training for Age Group: 12 months\n",
      "Epoch 1/5\n"
     ]
    },
    {
     "name": "stderr",
     "output_type": "stream",
     "text": [
      "Training (Age: 12 months): 100%|██████████| 1250/1250 [00:08<00:00, 149.52it/s, loss=0.953, accuracy=63.1]\n"
     ]
    },
    {
     "name": "stdout",
     "output_type": "stream",
     "text": [
      "Train Loss: 0.0326, Train Acc: 63.05%\n"
     ]
    },
    {
     "name": "stderr",
     "output_type": "stream",
     "text": [
      "Validation (Age: 12 months): 100%|██████████| 313/313 [00:01<00:00, 202.87it/s, loss=1.09, accuracy=60.4]\n"
     ]
    },
    {
     "name": "stdout",
     "output_type": "stream",
     "text": [
      "Validation Loss: 0.0355, Validation Acc: 60.42%\n",
      "Epoch 2/5\n"
     ]
    },
    {
     "name": "stderr",
     "output_type": "stream",
     "text": [
      "Training (Age: 12 months): 100%|██████████| 1250/1250 [00:08<00:00, 148.67it/s, loss=0.849, accuracy=66.1]\n"
     ]
    },
    {
     "name": "stdout",
     "output_type": "stream",
     "text": [
      "Train Loss: 0.0299, Train Acc: 66.11%\n"
     ]
    },
    {
     "name": "stderr",
     "output_type": "stream",
     "text": [
      "Validation (Age: 12 months): 100%|██████████| 313/313 [00:01<00:00, 179.48it/s, loss=1.21, accuracy=61.9]\n"
     ]
    },
    {
     "name": "stdout",
     "output_type": "stream",
     "text": [
      "Validation Loss: 0.0343, Validation Acc: 61.85%\n",
      "Epoch 3/5\n"
     ]
    },
    {
     "name": "stderr",
     "output_type": "stream",
     "text": [
      "Training (Age: 12 months): 100%|██████████| 1250/1250 [00:08<00:00, 139.66it/s, loss=1.05, accuracy=68.4]\n"
     ]
    },
    {
     "name": "stdout",
     "output_type": "stream",
     "text": [
      "Train Loss: 0.0279, Train Acc: 68.38%\n"
     ]
    },
    {
     "name": "stderr",
     "output_type": "stream",
     "text": [
      "Validation (Age: 12 months): 100%|██████████| 313/313 [00:01<00:00, 204.52it/s, loss=1.48, accuracy=62.6]\n"
     ]
    },
    {
     "name": "stdout",
     "output_type": "stream",
     "text": [
      "Validation Loss: 0.0340, Validation Acc: 62.58%\n",
      "Epoch 4/5\n"
     ]
    },
    {
     "name": "stderr",
     "output_type": "stream",
     "text": [
      "Training (Age: 12 months): 100%|██████████| 1250/1250 [00:08<00:00, 148.12it/s, loss=0.647, accuracy=70.3]\n"
     ]
    },
    {
     "name": "stdout",
     "output_type": "stream",
     "text": [
      "Train Loss: 0.0262, Train Acc: 70.28%\n"
     ]
    },
    {
     "name": "stderr",
     "output_type": "stream",
     "text": [
      "Validation (Age: 12 months): 100%|██████████| 313/313 [00:01<00:00, 202.37it/s, loss=1.23, accuracy=62.3]\n"
     ]
    },
    {
     "name": "stdout",
     "output_type": "stream",
     "text": [
      "Validation Loss: 0.0340, Validation Acc: 62.32%\n",
      "Epoch 5/5\n"
     ]
    },
    {
     "name": "stderr",
     "output_type": "stream",
     "text": [
      "Training (Age: 12 months): 100%|██████████| 1250/1250 [00:08<00:00, 149.34it/s, loss=0.646, accuracy=72]\n"
     ]
    },
    {
     "name": "stdout",
     "output_type": "stream",
     "text": [
      "Train Loss: 0.0247, Train Acc: 71.98%\n"
     ]
    },
    {
     "name": "stderr",
     "output_type": "stream",
     "text": [
      "Validation (Age: 12 months): 100%|██████████| 313/313 [00:01<00:00, 206.41it/s, loss=1.38, accuracy=63.5]\n"
     ]
    },
    {
     "name": "stdout",
     "output_type": "stream",
     "text": [
      "Validation Loss: 0.0337, Validation Acc: 63.46%\n",
      "Training completed.\n"
     ]
    }
   ],
   "source": [
    "device = torch.device(\"cuda\" if torch.cuda.is_available() else \"cpu\")\n",
    "model = SimpleCNN().to(device)\n",
    "for param in model.parameters():\n",
    "    param.requires_grad = True\n",
    "\n",
    "criterion = nn.CrossEntropyLoss()\n",
    "optimizer = optim.Adam(model.parameters(), lr=.001)\n",
    "scheduler = optim.lr_scheduler.ReduceLROnPlateau(optimizer, 'min', patience=3, factor=0.1)\n",
    "\n",
    "num_epochs = 5\n",
    "scaler = GradScaler()  # for mixed precision training\n",
    "\n",
    "best_val_loss = float('inf')\n",
    "\n",
    "# lists to store accuracy values\n",
    "train_accuracies = []\n",
    "val_accuracies = []\n",
    "\n",
    "# loop over each age group\n",
    "for age_group_index, age_group in enumerate(age_groups):\n",
    "    print(f\"Training for Age Group: {age_group} months\")\n",
    "    train_loader = train_loaders[age_group_index]\n",
    "    val_loader = val_loaders[age_group_index]\n",
    "    \n",
    "    for epoch in range(num_epochs):\n",
    "        print(f\"Epoch {epoch+1}/{num_epochs}\")\n",
    "        \n",
    "        model.train()\n",
    "        running_loss = 0.0\n",
    "        correct = 0\n",
    "        total = 0\n",
    "        \n",
    "        pbar = tqdm(train_loader, desc=f\"Training (Age: {age_group} months)\")\n",
    "        for inputs, labels in pbar:\n",
    "            inputs, labels = inputs.to(device), labels.to(device)\n",
    "            \n",
    "            optimizer.zero_grad()\n",
    "            \n",
    "            with autocast():  # mixed precision\n",
    "                outputs = model(inputs)\n",
    "                loss = criterion(outputs, labels)\n",
    "            \n",
    "            scaler.scale(loss).backward()\n",
    "            scaler.step(optimizer)\n",
    "            scaler.update()\n",
    "            \n",
    "            running_loss += loss.item()\n",
    "            _, predicted = torch.max(outputs.data, 1)\n",
    "            total += labels.size(0)\n",
    "            correct += (predicted == labels).sum().item()\n",
    "            \n",
    "            pbar.set_postfix({'loss': loss.item(), 'accuracy': 100. * correct / total})\n",
    "        \n",
    "        train_loss = running_loss / total\n",
    "        train_acc = 100. * correct / total\n",
    "        train_accuracies.append(train_acc)  # storing training accuracy\n",
    "        \n",
    "        print(f\"Train Loss: {train_loss:.4f}, Train Acc: {train_acc:.2f}%\")\n",
    "        \n",
    "        # validation\n",
    "        model.eval()\n",
    "        val_loss = 0.0\n",
    "        correct = 0\n",
    "        total = 0\n",
    "        \n",
    "        with torch.no_grad():\n",
    "            val_pbar = tqdm(val_loader, desc=f\"Validation (Age: {age_group} months)\")\n",
    "            for inputs, labels in val_pbar:\n",
    "                inputs, labels = inputs.to(device), labels.to(device)\n",
    "                \n",
    "                outputs = model(inputs)\n",
    "                loss = criterion(outputs, labels)\n",
    "                val_loss += loss.item()\n",
    "                _, predicted = torch.max(outputs.data, 1)\n",
    "                total += labels.size(0)\n",
    "                correct += (predicted == labels).sum().item()\n",
    "                \n",
    "                val_pbar.set_postfix({'loss': loss.item(), 'accuracy': 100. * correct / total})\n",
    "        \n",
    "        val_loss /= total\n",
    "        val_acc = 100. * correct / total\n",
    "        val_accuracies.append(val_acc)  # storing validation accuracy\n",
    "        \n",
    "        print(f\"Validation Loss: {val_loss:.4f}, Validation Acc: {val_acc:.2f}%\")\n",
    "        \n",
    "        scheduler.step(val_loss)\n",
    "\n",
    "print(\"Training completed.\")\n",
    "torch.save(model.state_dict(),\"onlyAcuity.pth\")\n"
   ]
  },
  {
   "cell_type": "code",
   "execution_count": 14,
   "id": "4c40878a",
   "metadata": {
    "execution": {
     "iopub.execute_input": "2025-01-01T01:05:07.348602Z",
     "iopub.status.busy": "2025-01-01T01:05:07.348115Z",
     "iopub.status.idle": "2025-01-01T01:05:07.779162Z",
     "shell.execute_reply": "2025-01-01T01:05:07.778335Z"
    },
    "papermill": {
     "duration": 2.904109,
     "end_time": "2025-01-01T01:05:07.780641",
     "exception": false,
     "start_time": "2025-01-01T01:05:04.876532",
     "status": "completed"
    },
    "tags": []
   },
   "outputs": [
    {
     "data": {
      "image/png": "[encoded data removed]",
      "text/plain": [
       "<Figure size 1000x500 with 1 Axes>"
      ]
     },
     "metadata": {},
     "output_type": "display_data"
    }
   ],
   "source": [
    "# plotting the accuracies\n",
    "plt.figure(figsize=(10, 5))\n",
    "plt.plot(range(1, len(train_accuracies) + 1), train_accuracies, label='Training Accuracy', marker='o')\n",
    "plt.plot(range(1, len(val_accuracies) + 1), val_accuracies, label='Validation Accuracy', marker='o')\n",
    "plt.title('Performance with curriculum learning(only Acuity)')\n",
    "plt.xlabel('Epochs')\n",
    "plt.ylabel('Accuracy (%)')\n",
    "plt.xticks(range(1, len(train_accuracies) + 1))\n",
    "plt.legend()\n",
    "plt.grid(True)\n",
    "plt.savefig(\"only Acuity\")\n",
    "\n",
    "plt.show()"
   ]
  },
  {
   "cell_type": "code",
   "execution_count": null,
   "id": "78abbcbd",
   "metadata": {
    "papermill": {
     "duration": 2.365368,
     "end_time": "2025-01-01T01:05:12.637572",
     "exception": false,
     "start_time": "2025-01-01T01:05:10.272204",
     "status": "completed"
    },
    "tags": []
   },
   "outputs": [],
   "source": []
  },
  {
   "cell_type": "code",
   "execution_count": 15,
   "id": "b45417dd",
   "metadata": {
    "execution": {
     "iopub.execute_input": "2025-01-01T01:05:17.472183Z",
     "iopub.status.busy": "2025-01-01T01:05:17.471798Z",
     "iopub.status.idle": "2025-01-01T01:05:20.232124Z",
     "shell.execute_reply": "2025-01-01T01:05:20.231005Z"
    },
    "papermill": {
     "duration": 5.2295,
     "end_time": "2025-01-01T01:05:20.233762",
     "exception": false,
     "start_time": "2025-01-01T01:05:15.004262",
     "status": "completed"
    },
    "tags": []
   },
   "outputs": [
    {
     "name": "stdout",
     "output_type": "stream",
     "text": [
      "Files already downloaded and verified\n",
      "Processing data for age group: 3 months\n",
      "Processing data for age group: 6 months\n",
      "Processing data for age group: 12 months\n",
      "Data loaders created for all age groups.\n"
     ]
    }
   ],
   "source": [
    "\n",
    "age_groups = [3, 6, 12]\n",
    "batch_size = 32\n",
    "\n",
    "train_loaders, val_loaders = [], []\n",
    "\n",
    "base_train_dataset = CIFAR10(root='./data', train=True, download=True)\n",
    "\n",
    "for age_months in age_groups:\n",
    "    print(f\"Processing data for age group: {age_months} months\")\n",
    "    \n",
    " \n",
    "    transform = transforms.Compose([\n",
    "       \n",
    "        # Acuity(age_months=age_months),\n",
    "        Contrast(age_months=age_months),\n",
    "        transforms.ToTensor(),\n",
    "        # transforms.Resize(256)\n",
    "        \n",
    "    ])\n",
    "    \n",
    "    # Create a new dataset with the transformation\n",
    "    transformed_dataset = CIFAR10(root='./data', train=True, download=False, transform=transform)\n",
    "    \n",
    "    generator = torch.Generator().manual_seed(42)  \n",
    "    train_size = int(0.8 * len(transformed_dataset))\n",
    "    val_size = len(transformed_dataset) - train_size\n",
    "    train_data, val_data = random_split(transformed_dataset, [train_size, val_size], generator=generator)\n",
    "\n",
    "    train_loader = DataLoader(train_data, batch_size=batch_size, shuffle=True, num_workers=4, pin_memory=True)\n",
    "    val_loader = DataLoader(val_data, batch_size=batch_size, shuffle=False, num_workers=4, pin_memory=True)\n",
    "\n",
    "    train_loaders.append(train_loader)\n",
    "    val_loaders.append(val_loader)\n",
    "\n",
    "print(\"Data loaders created for all age groups.\")\n"
   ]
  },
  {
   "cell_type": "code",
   "execution_count": 16,
   "id": "09e2edff",
   "metadata": {
    "execution": {
     "iopub.execute_input": "2025-01-01T01:05:25.046239Z",
     "iopub.status.busy": "2025-01-01T01:05:25.045862Z",
     "iopub.status.idle": "2025-01-01T01:08:11.728898Z",
     "shell.execute_reply": "2025-01-01T01:08:11.727660Z"
    },
    "papermill": {
     "duration": 169.096106,
     "end_time": "2025-01-01T01:08:11.730955",
     "exception": false,
     "start_time": "2025-01-01T01:05:22.634849",
     "status": "completed"
    },
    "tags": []
   },
   "outputs": [
    {
     "name": "stderr",
     "output_type": "stream",
     "text": [
      "<ipython-input-16-874169da2cfe>:12: FutureWarning: `torch.cuda.amp.GradScaler(args...)` is deprecated. Please use `torch.amp.GradScaler('cuda', args...)` instead.\n",
      "  scaler = GradScaler()  # for mixed precision training\n"
     ]
    },
    {
     "name": "stdout",
     "output_type": "stream",
     "text": [
      "Training for Age Group: 3 months\n",
      "Epoch 1/5\n"
     ]
    },
    {
     "name": "stderr",
     "output_type": "stream",
     "text": [
      "Training (Age: 3 months):   0%|          | 0/1250 [00:00<?, ?it/s]<ipython-input-16-874169da2cfe>:40: FutureWarning: `torch.cuda.amp.autocast(args...)` is deprecated. Please use `torch.amp.autocast('cuda', args...)` instead.\n",
      "  with autocast():  # mixed precision\n",
      "Training (Age: 3 months): 100%|██████████| 1250/1250 [00:08<00:00, 141.19it/s, loss=2.07, accuracy=20.1]\n"
     ]
    },
    {
     "name": "stdout",
     "output_type": "stream",
     "text": [
      "Train Loss: 0.0664, Train Acc: 20.12%\n"
     ]
    },
    {
     "name": "stderr",
     "output_type": "stream",
     "text": [
      "Validation (Age: 3 months): 100%|██████████| 313/313 [00:02<00:00, 146.99it/s, loss=1.75, accuracy=31.1]\n"
     ]
    },
    {
     "name": "stdout",
     "output_type": "stream",
     "text": [
      "Validation Loss: 0.0594, Validation Acc: 31.06%\n",
      "Epoch 2/5\n"
     ]
    },
    {
     "name": "stderr",
     "output_type": "stream",
     "text": [
      "Training (Age: 3 months): 100%|██████████| 1250/1250 [00:08<00:00, 140.87it/s, loss=1.68, accuracy=33.8]\n"
     ]
    },
    {
     "name": "stdout",
     "output_type": "stream",
     "text": [
      "Train Loss: 0.0570, Train Acc: 33.80%\n"
     ]
    },
    {
     "name": "stderr",
     "output_type": "stream",
     "text": [
      "Validation (Age: 3 months): 100%|██████████| 313/313 [00:01<00:00, 172.41it/s, loss=1.57, accuracy=38.9]\n"
     ]
    },
    {
     "name": "stdout",
     "output_type": "stream",
     "text": [
      "Validation Loss: 0.0537, Validation Acc: 38.85%\n",
      "Epoch 3/5\n"
     ]
    },
    {
     "name": "stderr",
     "output_type": "stream",
     "text": [
      "Training (Age: 3 months): 100%|██████████| 1250/1250 [00:08<00:00, 141.95it/s, loss=1.23, accuracy=39.6]\n"
     ]
    },
    {
     "name": "stdout",
     "output_type": "stream",
     "text": [
      "Train Loss: 0.0523, Train Acc: 39.59%\n"
     ]
    },
    {
     "name": "stderr",
     "output_type": "stream",
     "text": [
      "Validation (Age: 3 months): 100%|██████████| 313/313 [00:02<00:00, 144.80it/s, loss=1.67, accuracy=42.1]\n"
     ]
    },
    {
     "name": "stdout",
     "output_type": "stream",
     "text": [
      "Validation Loss: 0.0500, Validation Acc: 42.14%\n",
      "Epoch 4/5\n"
     ]
    },
    {
     "name": "stderr",
     "output_type": "stream",
     "text": [
      "Training (Age: 3 months): 100%|██████████| 1250/1250 [00:09<00:00, 133.82it/s, loss=1.47, accuracy=42.3]\n"
     ]
    },
    {
     "name": "stdout",
     "output_type": "stream",
     "text": [
      "Train Loss: 0.0499, Train Acc: 42.34%\n"
     ]
    },
    {
     "name": "stderr",
     "output_type": "stream",
     "text": [
      "Validation (Age: 3 months): 100%|██████████| 313/313 [00:02<00:00, 153.54it/s, loss=1.56, accuracy=44.9]\n"
     ]
    },
    {
     "name": "stdout",
     "output_type": "stream",
     "text": [
      "Validation Loss: 0.0479, Validation Acc: 44.89%\n",
      "Epoch 5/5\n"
     ]
    },
    {
     "name": "stderr",
     "output_type": "stream",
     "text": [
      "Training (Age: 3 months): 100%|██████████| 1250/1250 [00:09<00:00, 137.56it/s, loss=1.68, accuracy=44.3]\n"
     ]
    },
    {
     "name": "stdout",
     "output_type": "stream",
     "text": [
      "Train Loss: 0.0482, Train Acc: 44.30%\n"
     ]
    },
    {
     "name": "stderr",
     "output_type": "stream",
     "text": [
      "Validation (Age: 3 months): 100%|██████████| 313/313 [00:01<00:00, 168.70it/s, loss=1.58, accuracy=46.3]\n"
     ]
    },
    {
     "name": "stdout",
     "output_type": "stream",
     "text": [
      "Validation Loss: 0.0468, Validation Acc: 46.31%\n",
      "Training for Age Group: 6 months\n",
      "Epoch 1/5\n"
     ]
    },
    {
     "name": "stderr",
     "output_type": "stream",
     "text": [
      "Training (Age: 6 months): 100%|██████████| 1250/1250 [00:09<00:00, 136.50it/s, loss=1.26, accuracy=46.7]\n"
     ]
    },
    {
     "name": "stdout",
     "output_type": "stream",
     "text": [
      "Train Loss: 0.0466, Train Acc: 46.72%\n"
     ]
    },
    {
     "name": "stderr",
     "output_type": "stream",
     "text": [
      "Validation (Age: 6 months): 100%|██████████| 313/313 [00:02<00:00, 153.80it/s, loss=1.56, accuracy=44.7]\n"
     ]
    },
    {
     "name": "stdout",
     "output_type": "stream",
     "text": [
      "Validation Loss: 0.0482, Validation Acc: 44.68%\n",
      "Epoch 2/5\n"
     ]
    },
    {
     "name": "stderr",
     "output_type": "stream",
     "text": [
      "Training (Age: 6 months): 100%|██████████| 1250/1250 [00:09<00:00, 125.17it/s, loss=1.53, accuracy=49]\n"
     ]
    },
    {
     "name": "stdout",
     "output_type": "stream",
     "text": [
      "Train Loss: 0.0444, Train Acc: 49.00%\n"
     ]
    },
    {
     "name": "stderr",
     "output_type": "stream",
     "text": [
      "Validation (Age: 6 months): 100%|██████████| 313/313 [00:01<00:00, 170.98it/s, loss=1.4, accuracy=48.3]\n"
     ]
    },
    {
     "name": "stdout",
     "output_type": "stream",
     "text": [
      "Validation Loss: 0.0444, Validation Acc: 48.34%\n",
      "Epoch 3/5\n"
     ]
    },
    {
     "name": "stderr",
     "output_type": "stream",
     "text": [
      "Training (Age: 6 months): 100%|██████████| 1250/1250 [00:08<00:00, 139.02it/s, loss=1.49, accuracy=50.8]\n"
     ]
    },
    {
     "name": "stdout",
     "output_type": "stream",
     "text": [
      "Train Loss: 0.0430, Train Acc: 50.77%\n"
     ]
    },
    {
     "name": "stderr",
     "output_type": "stream",
     "text": [
      "Validation (Age: 6 months): 100%|██████████| 313/313 [00:01<00:00, 172.07it/s, loss=1.58, accuracy=50.7]\n"
     ]
    },
    {
     "name": "stdout",
     "output_type": "stream",
     "text": [
      "Validation Loss: 0.0431, Validation Acc: 50.72%\n",
      "Epoch 4/5\n"
     ]
    },
    {
     "name": "stderr",
     "output_type": "stream",
     "text": [
      "Training (Age: 6 months): 100%|██████████| 1250/1250 [00:08<00:00, 139.44it/s, loss=1.35, accuracy=52.2]\n"
     ]
    },
    {
     "name": "stdout",
     "output_type": "stream",
     "text": [
      "Train Loss: 0.0416, Train Acc: 52.18%\n"
     ]
    },
    {
     "name": "stderr",
     "output_type": "stream",
     "text": [
      "Validation (Age: 6 months): 100%|██████████| 313/313 [00:01<00:00, 172.34it/s, loss=1.48, accuracy=53]\n"
     ]
    },
    {
     "name": "stdout",
     "output_type": "stream",
     "text": [
      "Validation Loss: 0.0415, Validation Acc: 53.01%\n",
      "Epoch 5/5\n"
     ]
    },
    {
     "name": "stderr",
     "output_type": "stream",
     "text": [
      "Training (Age: 6 months): 100%|██████████| 1250/1250 [00:10<00:00, 123.59it/s, loss=1.32, accuracy=54]\n"
     ]
    },
    {
     "name": "stdout",
     "output_type": "stream",
     "text": [
      "Train Loss: 0.0403, Train Acc: 53.98%\n"
     ]
    },
    {
     "name": "stderr",
     "output_type": "stream",
     "text": [
      "Validation (Age: 6 months): 100%|██████████| 313/313 [00:01<00:00, 171.07it/s, loss=1.55, accuracy=52.8]\n"
     ]
    },
    {
     "name": "stdout",
     "output_type": "stream",
     "text": [
      "Validation Loss: 0.0415, Validation Acc: 52.81%\n",
      "Training for Age Group: 12 months\n",
      "Epoch 1/5\n"
     ]
    },
    {
     "name": "stderr",
     "output_type": "stream",
     "text": [
      "Training (Age: 12 months): 100%|██████████| 1250/1250 [00:08<00:00, 141.50it/s, loss=0.922, accuracy=55.6]\n"
     ]
    },
    {
     "name": "stdout",
     "output_type": "stream",
     "text": [
      "Train Loss: 0.0391, Train Acc: 55.58%\n"
     ]
    },
    {
     "name": "stderr",
     "output_type": "stream",
     "text": [
      "Validation (Age: 12 months): 100%|██████████| 313/313 [00:01<00:00, 168.11it/s, loss=1.35, accuracy=56.1]\n"
     ]
    },
    {
     "name": "stdout",
     "output_type": "stream",
     "text": [
      "Validation Loss: 0.0391, Validation Acc: 56.09%\n",
      "Epoch 2/5\n"
     ]
    },
    {
     "name": "stderr",
     "output_type": "stream",
     "text": [
      "Training (Age: 12 months): 100%|██████████| 1250/1250 [00:08<00:00, 139.27it/s, loss=1.1, accuracy=58.6]\n"
     ]
    },
    {
     "name": "stdout",
     "output_type": "stream",
     "text": [
      "Train Loss: 0.0365, Train Acc: 58.58%\n"
     ]
    },
    {
     "name": "stderr",
     "output_type": "stream",
     "text": [
      "Validation (Age: 12 months): 100%|██████████| 313/313 [00:01<00:00, 168.48it/s, loss=1.2, accuracy=57.5]\n"
     ]
    },
    {
     "name": "stdout",
     "output_type": "stream",
     "text": [
      "Validation Loss: 0.0380, Validation Acc: 57.55%\n",
      "Epoch 3/5\n"
     ]
    },
    {
     "name": "stderr",
     "output_type": "stream",
     "text": [
      "Training (Age: 12 months): 100%|██████████| 1250/1250 [00:10<00:00, 124.38it/s, loss=1.1, accuracy=60.3]\n"
     ]
    },
    {
     "name": "stdout",
     "output_type": "stream",
     "text": [
      "Train Loss: 0.0349, Train Acc: 60.27%\n"
     ]
    },
    {
     "name": "stderr",
     "output_type": "stream",
     "text": [
      "Validation (Age: 12 months): 100%|██████████| 313/313 [00:02<00:00, 148.02it/s, loss=1.34, accuracy=58.2]\n"
     ]
    },
    {
     "name": "stdout",
     "output_type": "stream",
     "text": [
      "Validation Loss: 0.0367, Validation Acc: 58.21%\n",
      "Epoch 4/5\n"
     ]
    },
    {
     "name": "stderr",
     "output_type": "stream",
     "text": [
      "Training (Age: 12 months): 100%|██████████| 1250/1250 [00:08<00:00, 140.14it/s, loss=1.05, accuracy=61.8]\n"
     ]
    },
    {
     "name": "stdout",
     "output_type": "stream",
     "text": [
      "Train Loss: 0.0334, Train Acc: 61.84%\n"
     ]
    },
    {
     "name": "stderr",
     "output_type": "stream",
     "text": [
      "Validation (Age: 12 months): 100%|██████████| 313/313 [00:01<00:00, 173.72it/s, loss=1.18, accuracy=59.9]\n"
     ]
    },
    {
     "name": "stdout",
     "output_type": "stream",
     "text": [
      "Validation Loss: 0.0359, Validation Acc: 59.85%\n",
      "Epoch 5/5\n"
     ]
    },
    {
     "name": "stderr",
     "output_type": "stream",
     "text": [
      "Training (Age: 12 months): 100%|██████████| 1250/1250 [00:08<00:00, 141.24it/s, loss=0.973, accuracy=63.6]\n"
     ]
    },
    {
     "name": "stdout",
     "output_type": "stream",
     "text": [
      "Train Loss: 0.0321, Train Acc: 63.62%\n"
     ]
    },
    {
     "name": "stderr",
     "output_type": "stream",
     "text": [
      "Validation (Age: 12 months): 100%|██████████| 313/313 [00:01<00:00, 176.62it/s, loss=1.21, accuracy=60.5]"
     ]
    },
    {
     "name": "stdout",
     "output_type": "stream",
     "text": [
      "Validation Loss: 0.0351, Validation Acc: 60.54%\n",
      "Training completed.\n"
     ]
    },
    {
     "name": "stderr",
     "output_type": "stream",
     "text": [
      "\n"
     ]
    }
   ],
   "source": [
    "device = torch.device(\"cuda\" if torch.cuda.is_available() else \"cpu\")\n",
    "model = SimpleCNN().to(device)\n",
    "for param in model.parameters():\n",
    "    param.requires_grad = True\n",
    "\n",
    "criterion = nn.CrossEntropyLoss()\n",
    "optimizer = optim.Adam(model.parameters(), lr=.001)\n",
    "scheduler = optim.lr_scheduler.ReduceLROnPlateau(optimizer, 'min', patience=3, factor=0.1)\n",
    "\n",
    "num_epochs = 5\n",
    "scaler = GradScaler()\n",
    "\n",
    "best_val_loss = float('inf')\n",
    "\n",
    "train_accuracies = []\n",
    "val_accuracies = []\n",
    "\n",
    "for age_group_index, age_group in enumerate(age_groups):\n",
    "    print(f\"Training for Age Group: {age_group} months\")\n",
    "    train_loader = train_loaders[age_group_index]\n",
    "    val_loader = val_loaders[age_group_index]\n",
    "    \n",
    "    for epoch in range(num_epochs):\n",
    "        print(f\"Epoch {epoch+1}/{num_epochs}\")\n",
    "        \n",
    "        model.train()\n",
    "        running_loss = 0.0\n",
    "        correct = 0\n",
    "        total = 0\n",
    "        \n",
    "        pbar = tqdm(train_loader, desc=f\"Training (Age: {age_group} months)\")\n",
    "        for inputs, labels in pbar:\n",
    "            inputs, labels = inputs.to(device), labels.to(device)\n",
    "            \n",
    "            optimizer.zero_grad()\n",
    "            \n",
    "            with autocast():\n",
    "                outputs = model(inputs)\n",
    "                loss = criterion(outputs, labels)\n",
    "            \n",
    "            scaler.scale(loss).backward()\n",
    "            scaler.step(optimizer)\n",
    "            scaler.update()\n",
    "            \n",
    "            running_loss += loss.item()\n",
    "            _, predicted = torch.max(outputs.data, 1)\n",
    "            total += labels.size(0)\n",
    "            correct += (predicted == labels).sum().item()\n",
    "            \n",
    "            pbar.set_postfix({'loss': loss.item(), 'accuracy': 100. * correct / total})\n",
    "        \n",
    "        train_loss = running_loss / total\n",
    "        train_acc = 100. * correct / total\n",
    "        train_accuracies.append(train_acc)\n",
    "        \n",
    "        print(f\"Train Loss: {train_loss:.4f}, Train Acc: {train_acc:.2f}%\")\n",
    "        \n",
    "        model.eval()\n",
    "        val_loss = 0.0\n",
    "        correct = 0\n",
    "        total = 0\n",
    "        \n",
    "        with torch.no_grad():\n",
    "            val_pbar = tqdm(val_loader, desc=f\"Validation (Age: {age_group} months)\")\n",
    "            for inputs, labels in val_pbar:\n",
    "                inputs, labels = inputs.to(device), labels.to(device)\n",
    "                \n",
    "                outputs = model(inputs)\n",
    "                loss = criterion(outputs, labels)\n",
    "                val_loss += loss.item()\n",
    "                _, predicted = torch.max(outputs.data, 1)\n",
    "                total += labels.size(0)\n",
    "                correct += (predicted == labels).sum().item()\n",
    "                \n",
    "                val_pbar.set_postfix({'loss': loss.item(), 'accuracy': 100. * correct / total})\n",
    "        \n",
    "        val_loss /= total\n",
    "        val_acc = 100. * correct / total\n",
    "        val_accuracies.append(val_acc) \n",
    "        \n",
    "        print(f\"Validation Loss: {val_loss:.4f}, Validation Acc: {val_acc:.2f}%\")\n",
    "        \n",
    "        scheduler.step(val_loss)\n",
    "\n",
    "print(\"Training completed.\")\n",
    "torch.save(model.state_dict(),\"onlyContrast.pth\")\n"
   ]
  },
  {
   "cell_type": "code",
   "execution_count": 17,
   "id": "98189f02",
   "metadata": {
    "execution": {
     "iopub.execute_input": "2025-01-01T01:08:19.127085Z",
     "iopub.status.busy": "2025-01-01T01:08:19.126711Z",
     "iopub.status.idle": "2025-01-01T01:08:19.515935Z",
     "shell.execute_reply": "2025-01-01T01:08:19.515061Z"
    },
    "papermill": {
     "duration": 4.056141,
     "end_time": "2025-01-01T01:08:19.517288",
     "exception": false,
     "start_time": "2025-01-01T01:08:15.461147",
     "status": "completed"
    },
    "tags": []
   },
   "outputs": [
    {
     "data": {
      "image/png": "[encoded data removed]",
      "text/plain": [
       "<Figure size 1000x500 with 1 Axes>"
      ]
     },
     "metadata": {},
     "output_type": "display_data"
    }
   ],
   "source": [
    "plt.figure(figsize=(10, 5))\n",
    "plt.plot(range(1, len(train_accuracies) + 1), train_accuracies, label='Training Accuracy', marker='o')\n",
    "plt.plot(range(1, len(val_accuracies) + 1), val_accuracies, label='Validation Accuracy', marker='o')\n",
    "plt.title('Performance with curriculum learning(only Contrast Adj.)')\n",
    "plt.xlabel('Epochs')\n",
    "plt.ylabel('Accuracy (%)')\n",
    "plt.xticks(range(1, len(train_accuracies) + 1))\n",
    "plt.legend()\n",
    "plt.grid(True)\n",
    "plt.savefig(\"only Contrast\")\n",
    "plt.show()"
   ]
  },
  {
   "cell_type": "code",
   "execution_count": null,
   "id": "3a49c1f5",
   "metadata": {
    "papermill": {
     "duration": 3.648563,
     "end_time": "2025-01-01T01:08:26.794224",
     "exception": false,
     "start_time": "2025-01-01T01:08:23.145661",
     "status": "completed"
    },
    "tags": []
   },
   "outputs": [],
   "source": []
  },
  {
   "cell_type": "code",
   "execution_count": 18,
   "id": "f9036d8b",
   "metadata": {
    "execution": {
     "iopub.execute_input": "2025-01-01T01:08:34.092168Z",
     "iopub.status.busy": "2025-01-01T01:08:34.091794Z",
     "iopub.status.idle": "2025-01-01T01:08:36.850962Z",
     "shell.execute_reply": "2025-01-01T01:08:36.849934Z"
    },
    "papermill": {
     "duration": 6.375387,
     "end_time": "2025-01-01T01:08:36.852389",
     "exception": false,
     "start_time": "2025-01-01T01:08:30.477002",
     "status": "completed"
    },
    "tags": []
   },
   "outputs": [
    {
     "name": "stdout",
     "output_type": "stream",
     "text": [
      "Files already downloaded and verified\n",
      "Processing data for age group: 3 months\n",
      "Processing data for age group: 6 months\n",
      "Processing data for age group: 12 months\n",
      "Data loaders created for all age groups.\n"
     ]
    }
   ],
   "source": [
    "age_groups = [3, 6, 12]\n",
    "batch_size = 32\n",
    "train_loaders, val_loaders = [], []\n",
    "\n",
    "base_train_dataset = CIFAR10(root='./data', train=True, download=True)\n",
    "\n",
    "for age_months in age_groups:\n",
    "    print(f\"Processing data for age group: {age_months} months\")\n",
    "    \n",
    "    transform = transforms.Compose([\n",
    "       \n",
    "        # Acuity(age_months=age_months),\n",
    "        # Contrast(age_months=age_months),\n",
    "         transforms.ToTensor(),\n",
    "        # transforms.Resize(256)\n",
    "        \n",
    "    ])\n",
    "    \n",
    "    transformed_dataset = CIFAR10(root='./data', train=True, download=False, transform=transform)\n",
    "    \n",
    "    generator = torch.Generator().manual_seed(42)\n",
    "    train_size = int(0.8 * len(transformed_dataset))\n",
    "    val_size = len(transformed_dataset) - train_size\n",
    "    train_data, val_data = random_split(transformed_dataset, [train_size, val_size], generator=generator)\n",
    "\n",
    "    train_loader = DataLoader(train_data, batch_size=batch_size, shuffle=True, num_workers=4, pin_memory=True)\n",
    "    val_loader = DataLoader(val_data, batch_size=batch_size, shuffle=False, num_workers=4, pin_memory=True)\n",
    "\n",
    "    train_loaders.append(train_loader)\n",
    "    val_loaders.append(val_loader)\n",
    "\n",
    "print(\"Data loaders created for all age groups.\")\n"
   ]
  },
  {
   "cell_type": "code",
   "execution_count": 19,
   "id": "72d2653d",
   "metadata": {
    "execution": {
     "iopub.execute_input": "2025-01-01T01:08:44.069063Z",
     "iopub.status.busy": "2025-01-01T01:08:44.068704Z",
     "iopub.status.idle": "2025-01-01T01:11:10.316159Z",
     "shell.execute_reply": "2025-01-01T01:11:10.315180Z"
    },
    "papermill": {
     "duration": 149.788967,
     "end_time": "2025-01-01T01:11:10.317832",
     "exception": false,
     "start_time": "2025-01-01T01:08:40.528865",
     "status": "completed"
    },
    "tags": []
   },
   "outputs": [
    {
     "name": "stderr",
     "output_type": "stream",
     "text": [
      "<ipython-input-19-04fef8e8246c>:12: FutureWarning: `torch.cuda.amp.GradScaler(args...)` is deprecated. Please use `torch.amp.GradScaler('cuda', args...)` instead.\n",
      "  scaler = GradScaler()  # for mixed precision training\n"
     ]
    },
    {
     "name": "stdout",
     "output_type": "stream",
     "text": [
      "Epoch 1/5\n"
     ]
    },
    {
     "name": "stderr",
     "output_type": "stream",
     "text": [
      "Training (Age: 3 months):   0%|          | 0/1250 [00:00<?, ?it/s]<ipython-input-19-04fef8e8246c>:35: FutureWarning: `torch.cuda.amp.autocast(args...)` is deprecated. Please use `torch.amp.autocast('cuda', args...)` instead.\n",
      "  with autocast():  # mixed precision\n",
      "Training (Age: 3 months): 100%|██████████| 1250/1250 [00:08<00:00, 151.02it/s, loss=1.63, accuracy=44.3]\n",
      "Training (Age: 6 months): 100%|██████████| 1250/1250 [00:08<00:00, 155.38it/s, loss=1.17, accuracy=50.6]\n",
      "Training (Age: 12 months): 100%|██████████| 1250/1250 [00:07<00:00, 156.52it/s, loss=1.21, accuracy=54.5]\n"
     ]
    },
    {
     "name": "stdout",
     "output_type": "stream",
     "text": [
      "Train Loss: 0.0397, Train Acc: 54.52%\n"
     ]
    },
    {
     "name": "stderr",
     "output_type": "stream",
     "text": [
      "Validation (Age: 3 months): 100%|██████████| 313/313 [00:01<00:00, 208.39it/s, loss=1.05, accuracy=61.5]\n",
      "Validation (Age: 6 months): 100%|██████████| 313/313 [00:01<00:00, 206.23it/s, loss=1.05, accuracy=61.5]\n",
      "Validation (Age: 12 months): 100%|██████████| 313/313 [00:01<00:00, 205.10it/s, loss=1.05, accuracy=61.5]\n"
     ]
    },
    {
     "name": "stdout",
     "output_type": "stream",
     "text": [
      "Validation Loss: 0.0336, Validation Acc: 61.53%\n",
      "Epoch 2/5\n"
     ]
    },
    {
     "name": "stderr",
     "output_type": "stream",
     "text": [
      "Training (Age: 3 months): 100%|██████████| 1250/1250 [00:09<00:00, 138.81it/s, loss=0.835, accuracy=65.6]\n",
      "Training (Age: 6 months): 100%|██████████| 1250/1250 [00:08<00:00, 155.39it/s, loss=1.15, accuracy=66.9]\n",
      "Training (Age: 12 months): 100%|██████████| 1250/1250 [00:08<00:00, 155.14it/s, loss=1.21, accuracy=68.1]\n"
     ]
    },
    {
     "name": "stdout",
     "output_type": "stream",
     "text": [
      "Train Loss: 0.0283, Train Acc: 68.09%\n"
     ]
    },
    {
     "name": "stderr",
     "output_type": "stream",
     "text": [
      "Validation (Age: 3 months): 100%|██████████| 313/313 [00:01<00:00, 206.63it/s, loss=0.951, accuracy=64.8]\n",
      "Validation (Age: 6 months): 100%|██████████| 313/313 [00:01<00:00, 206.34it/s, loss=0.951, accuracy=64.8]\n",
      "Validation (Age: 12 months): 100%|██████████| 313/313 [00:01<00:00, 204.83it/s, loss=0.951, accuracy=64.8]\n"
     ]
    },
    {
     "name": "stdout",
     "output_type": "stream",
     "text": [
      "Validation Loss: 0.0311, Validation Acc: 64.79%\n",
      "Epoch 3/5\n"
     ]
    },
    {
     "name": "stderr",
     "output_type": "stream",
     "text": [
      "Training (Age: 3 months): 100%|██████████| 1250/1250 [00:08<00:00, 153.06it/s, loss=0.762, accuracy=72.2]\n",
      "Training (Age: 6 months): 100%|██████████| 1250/1250 [00:08<00:00, 140.96it/s, loss=0.509, accuracy=73.1]\n",
      "Training (Age: 12 months): 100%|██████████| 1250/1250 [00:07<00:00, 156.60it/s, loss=0.38, accuracy=73.9]\n"
     ]
    },
    {
     "name": "stdout",
     "output_type": "stream",
     "text": [
      "Train Loss: 0.0232, Train Acc: 73.86%\n"
     ]
    },
    {
     "name": "stderr",
     "output_type": "stream",
     "text": [
      "Validation (Age: 3 months): 100%|██████████| 313/313 [00:01<00:00, 209.16it/s, loss=1.06, accuracy=65]\n",
      "Validation (Age: 6 months): 100%|██████████| 313/313 [00:01<00:00, 207.23it/s, loss=1.06, accuracy=65]\n",
      "Validation (Age: 12 months): 100%|██████████| 313/313 [00:01<00:00, 210.96it/s, loss=1.06, accuracy=65]\n"
     ]
    },
    {
     "name": "stdout",
     "output_type": "stream",
     "text": [
      "Validation Loss: 0.0322, Validation Acc: 64.99%\n",
      "Epoch 4/5\n"
     ]
    },
    {
     "name": "stderr",
     "output_type": "stream",
     "text": [
      "Training (Age: 3 months): 100%|██████████| 1250/1250 [00:08<00:00, 155.99it/s, loss=0.414, accuracy=77]\n",
      "Training (Age: 6 months): 100%|██████████| 1250/1250 [00:08<00:00, 152.63it/s, loss=0.633, accuracy=77.7]\n",
      "Training (Age: 12 months): 100%|██████████| 1250/1250 [00:08<00:00, 142.92it/s, loss=0.895, accuracy=78.4]\n"
     ]
    },
    {
     "name": "stdout",
     "output_type": "stream",
     "text": [
      "Train Loss: 0.0191, Train Acc: 78.40%\n"
     ]
    },
    {
     "name": "stderr",
     "output_type": "stream",
     "text": [
      "Validation (Age: 3 months): 100%|██████████| 313/313 [00:01<00:00, 206.74it/s, loss=0.864, accuracy=66.7]\n",
      "Validation (Age: 6 months): 100%|██████████| 313/313 [00:01<00:00, 206.56it/s, loss=0.864, accuracy=66.7]\n",
      "Validation (Age: 12 months): 100%|██████████| 313/313 [00:01<00:00, 209.64it/s, loss=0.864, accuracy=66.7]\n"
     ]
    },
    {
     "name": "stdout",
     "output_type": "stream",
     "text": [
      "Validation Loss: 0.0323, Validation Acc: 66.73%\n",
      "Epoch 5/5\n"
     ]
    },
    {
     "name": "stderr",
     "output_type": "stream",
     "text": [
      "Training (Age: 3 months): 100%|██████████| 1250/1250 [00:08<00:00, 156.25it/s, loss=0.587, accuracy=81.1]\n",
      "Training (Age: 6 months): 100%|██████████| 1250/1250 [00:08<00:00, 152.39it/s, loss=0.405, accuracy=81.9]\n",
      "Training (Age: 12 months): 100%|██████████| 1250/1250 [00:07<00:00, 157.44it/s, loss=0.515, accuracy=82.5]\n"
     ]
    },
    {
     "name": "stdout",
     "output_type": "stream",
     "text": [
      "Train Loss: 0.0154, Train Acc: 82.55%\n"
     ]
    },
    {
     "name": "stderr",
     "output_type": "stream",
     "text": [
      "Validation (Age: 3 months): 100%|██████████| 313/313 [00:01<00:00, 209.55it/s, loss=1.03, accuracy=65.8]\n",
      "Validation (Age: 6 months): 100%|██████████| 313/313 [00:01<00:00, 209.30it/s, loss=1.03, accuracy=65.8]\n",
      "Validation (Age: 12 months): 100%|██████████| 313/313 [00:01<00:00, 209.53it/s, loss=1.03, accuracy=65.8]\n"
     ]
    },
    {
     "name": "stdout",
     "output_type": "stream",
     "text": [
      "Validation Loss: 0.0358, Validation Acc: 65.77%\n",
      "Training completed.\n"
     ]
    }
   ],
   "source": [
    "device = torch.device(\"cuda\" if torch.cuda.is_available() else \"cpu\")\n",
    "model = SimpleCNN().to(device)\n",
    "for param in model.parameters():\n",
    "    param.requires_grad = True\n",
    "\n",
    "criterion = nn.CrossEntropyLoss()\n",
    "optimizer = optim.Adam(model.parameters(), lr=.001)\n",
    "scheduler = optim.lr_scheduler.ReduceLROnPlateau(optimizer, 'min', patience=3, factor=0.1)\n",
    "\n",
    "num_epochs = 5\n",
    "scaler = GradScaler()\n",
    "\n",
    "best_val_loss = float('inf')\n",
    "\n",
    "train_accuracies = []\n",
    "val_accuracies = []\n",
    "\n",
    "for epoch in range(num_epochs):\n",
    "    print(f\"Epoch {epoch+1}/{num_epochs}\")\n",
    "    \n",
    "    model.train()\n",
    "    running_loss = 0.0\n",
    "    correct = 0\n",
    "    total = 0\n",
    "    \n",
    "    for age_group, train_loader in zip(age_groups, train_loaders):\n",
    "        pbar = tqdm(train_loader, desc=f\"Training (Age: {age_group} months)\")\n",
    "        for inputs, labels in pbar:\n",
    "            inputs, labels = inputs.to(device), labels.to(device)\n",
    "            \n",
    "            optimizer.zero_grad()\n",
    "            \n",
    "            with autocast():\n",
    "                outputs = model(inputs)\n",
    "                loss = criterion(outputs, labels)\n",
    "            \n",
    "            scaler.scale(loss).backward()\n",
    "            scaler.step(optimizer)\n",
    "            scaler.update()\n",
    "            \n",
    "            running_loss += loss.item()\n",
    "            _, predicted = torch.max(outputs.data, 1)\n",
    "            total += labels.size(0)\n",
    "            correct += (predicted == labels).sum().item()\n",
    "            \n",
    "            pbar.set_postfix({'loss': loss.item(), 'accuracy': 100. * correct / total})\n",
    "    \n",
    "    train_loss = running_loss / total\n",
    "    train_acc = 100. * correct / total\n",
    "    train_accuracies.append(train_acc)\n",
    "    \n",
    "    print(f\"Train Loss: {train_loss:.4f}, Train Acc: {train_acc:.2f}%\")\n",
    "    \n",
    "    model.eval()\n",
    "    val_loss = 0.0\n",
    "    correct = 0\n",
    "    total = 0\n",
    "    \n",
    "    with torch.no_grad():\n",
    "        for age_group, val_loader in zip(age_groups, val_loaders):\n",
    "            pbar = tqdm(val_loader, desc=f\"Validation (Age: {age_group} months)\")\n",
    "            for inputs, labels in pbar:\n",
    "                inputs, labels = inputs.to(device), labels.to(device)\n",
    "                \n",
    "                outputs = model(inputs)\n",
    "                loss = criterion(outputs, labels)\n",
    "                val_loss += loss.item()\n",
    "                _, predicted = torch.max(outputs.data, 1)\n",
    "                total += labels.size(0)\n",
    "                correct += (predicted == labels).sum().item()\n",
    "                \n",
    "                pbar.set_postfix({'loss': loss.item(), 'accuracy': 100. * correct / total})\n",
    "    \n",
    "    val_loss /= total\n",
    "    val_acc = 100. * correct / total\n",
    "    val_accuracies.append(val_acc)\n",
    "    \n",
    "    print(f\"Validation Loss: {val_loss:.4f}, Validation Acc: {val_acc:.2f}%\")\n",
    "    \n",
    "    scheduler.step(val_loss)\n",
    "    \n",
    "print(\"Training completed.\")\n",
    "torch.save(model.state_dict(),\"noCurriculum.pth\")\n"
   ]
  },
  {
   "cell_type": "code",
   "execution_count": 20,
   "id": "227e3eeb",
   "metadata": {
    "execution": {
     "iopub.execute_input": "2025-01-01T01:11:20.129075Z",
     "iopub.status.busy": "2025-01-01T01:11:20.128680Z",
     "iopub.status.idle": "2025-01-01T01:11:20.469757Z",
     "shell.execute_reply": "2025-01-01T01:11:20.468985Z"
    },
    "papermill": {
     "duration": 5.213185,
     "end_time": "2025-01-01T01:11:20.471412",
     "exception": false,
     "start_time": "2025-01-01T01:11:15.258227",
     "status": "completed"
    },
    "tags": []
   },
   "outputs": [
    {
     "data": {
      "image/png": "[encoded data removed]",
      "text/plain": [
       "<Figure size 1000x500 with 1 Axes>"
      ]
     },
     "metadata": {},
     "output_type": "display_data"
    }
   ],
   "source": [
    "plt.figure(figsize=(10, 5))\n",
    "plt.plot(range(1, len(train_accuracies) + 1), train_accuracies, label='Training Accuracy', marker='o')\n",
    "plt.plot(range(1, len(val_accuracies) + 1), val_accuracies, label='Validation Accuracy', marker='o')\n",
    "plt.title('Performance with-out curriculum & Transfroms')\n",
    "plt.xlabel('Epochs')\n",
    "plt.ylabel('Accuracy (%)')\n",
    "plt.xticks(range(1, len(train_accuracies) + 1))\n",
    "plt.legend()\n",
    "plt.grid(True)\n",
    "plt.savefig(\"with-out curriculum\")\n",
    "plt.show()"
   ]
  },
  {
   "cell_type": "code",
   "execution_count": null,
   "id": "e4f59c9e",
   "metadata": {
    "papermill": {
     "duration": 5.015183,
     "end_time": "2025-01-01T01:11:30.196711",
     "exception": false,
     "start_time": "2025-01-01T01:11:25.181528",
     "status": "completed"
    },
    "tags": []
   },
   "outputs": [],
   "source": []
  }
 ],
 "metadata": {
  "kaggle": {
   "accelerator": "nvidiaTeslaT4",
   "dataSources": [
    {
     "datasetId": 1669494,
     "sourceId": 2738526,
     "sourceType": "datasetVersion"
    }
   ],
   "dockerImageVersionId": 30822,
   "isGpuEnabled": true,
   "isInternetEnabled": true,
   "language": "python",
   "sourceType": "notebook"
  },
  "kernelspec": {
   "display_name": "Python 3",
   "language": "python",
   "name": "python3"
  },
  "language_info": {
   "codemirror_mode": {
    "name": "ipython",
    "version": 3
   },
   "file_extension": ".py",
   "mimetype": "text/x-python",
   "name": "python",
   "nbconvert_exporter": "python",
   "pygments_lexer": "ipython3",
   "version": "3.10.12"
  },
  "papermill": {
   "default_parameters": {},
   "duration": 758.760426,
   "end_time": "2025-01-01T01:11:37.792056",
   "environment_variables": {},
   "exception": null,
   "input_path": "__notebook__.ipynb",
   "output_path": "__notebook__.ipynb",
   "parameters": {},
   "start_time": "2025-01-01T00:58:59.031630",
   "version": "2.6.0"
  }
 },
 "nbformat": 4,
 "nbformat_minor": 5
}
